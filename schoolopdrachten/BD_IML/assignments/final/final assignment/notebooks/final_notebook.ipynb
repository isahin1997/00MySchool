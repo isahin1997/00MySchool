{
 "cells": [
  {
   "cell_type": "markdown",
   "metadata": {},
   "source": [
    "# Recognizer\n",
    "This notebook will be used to validate your model and grade your work."
   ]
  },
  {
   "cell_type": "markdown",
   "metadata": {},
   "source": [
    "# Collect features and execute model (YOUR IMPLEMENTATION HERE)\n",
    "You need to implement the following function that predicts the digits that are available in an image. The function should return an array with 4 elements, containing these 4 digits from left to right."
   ]
  },
  {
   "cell_type": "code",
   "execution_count": 1,
   "metadata": {},
   "outputs": [],
   "source": [
    "import glob\n",
    "import os\n",
    "import sklearn\n",
    "import joblib\n",
    "import skimage, skimage.io\n",
    "import pandas as pd\n",
    "import numpy as np"
   ]
  },
  {
   "cell_type": "code",
   "execution_count": 2,
   "metadata": {},
   "outputs": [
    {
     "ename": "FileNotFoundError",
     "evalue": "[Errno 2] No such file or directory: '../classifiers/best_preprocessor.pkl'",
     "output_type": "error",
     "traceback": [
      "\u001b[1;31m---------------------------------------------------------------------------\u001b[0m",
      "\u001b[1;31mFileNotFoundError\u001b[0m                         Traceback (most recent call last)",
      "\u001b[1;32m<ipython-input-2-c652b9a00171>\u001b[0m in \u001b[0;36m<module>\u001b[1;34m\u001b[0m\n\u001b[0;32m      1\u001b[0m \u001b[1;31m# Load the preprocessor (REPLACE WITH YOUR CODE)\u001b[0m\u001b[1;33m\u001b[0m\u001b[1;33m\u001b[0m\u001b[1;33m\u001b[0m\u001b[0m\n\u001b[1;32m----> 2\u001b[1;33m \u001b[0mpreproc\u001b[0m \u001b[1;33m=\u001b[0m \u001b[0mjoblib\u001b[0m\u001b[1;33m.\u001b[0m\u001b[0mload\u001b[0m\u001b[1;33m(\u001b[0m\u001b[1;34m'../classifiers/best_preprocessor.pkl'\u001b[0m\u001b[1;33m)\u001b[0m\u001b[1;33m\u001b[0m\u001b[1;33m\u001b[0m\u001b[0m\n\u001b[0m\u001b[0;32m      3\u001b[0m \u001b[1;33m\u001b[0m\u001b[0m\n\u001b[0;32m      4\u001b[0m \u001b[1;31m# Load your final model (REPLACE WITH YOUR CODE)\u001b[0m\u001b[1;33m\u001b[0m\u001b[1;33m\u001b[0m\u001b[1;33m\u001b[0m\u001b[0m\n\u001b[0;32m      5\u001b[0m \u001b[0mclf\u001b[0m \u001b[1;33m=\u001b[0m \u001b[0mjoblib\u001b[0m\u001b[1;33m.\u001b[0m\u001b[0mload\u001b[0m\u001b[1;33m(\u001b[0m\u001b[1;34m'../classifiers/best_classifier.pkl'\u001b[0m\u001b[1;33m)\u001b[0m\u001b[1;33m\u001b[0m\u001b[1;33m\u001b[0m\u001b[0m\n",
      "\u001b[1;32mc:\\users\\isahi\\appdata\\local\\programs\\python\\python38\\lib\\site-packages\\joblib\\numpy_pickle.py\u001b[0m in \u001b[0;36mload\u001b[1;34m(filename, mmap_mode)\u001b[0m\n\u001b[0;32m    575\u001b[0m             \u001b[0mobj\u001b[0m \u001b[1;33m=\u001b[0m \u001b[0m_unpickle\u001b[0m\u001b[1;33m(\u001b[0m\u001b[0mfobj\u001b[0m\u001b[1;33m)\u001b[0m\u001b[1;33m\u001b[0m\u001b[1;33m\u001b[0m\u001b[0m\n\u001b[0;32m    576\u001b[0m     \u001b[1;32melse\u001b[0m\u001b[1;33m:\u001b[0m\u001b[1;33m\u001b[0m\u001b[1;33m\u001b[0m\u001b[0m\n\u001b[1;32m--> 577\u001b[1;33m         \u001b[1;32mwith\u001b[0m \u001b[0mopen\u001b[0m\u001b[1;33m(\u001b[0m\u001b[0mfilename\u001b[0m\u001b[1;33m,\u001b[0m \u001b[1;34m'rb'\u001b[0m\u001b[1;33m)\u001b[0m \u001b[1;32mas\u001b[0m \u001b[0mf\u001b[0m\u001b[1;33m:\u001b[0m\u001b[1;33m\u001b[0m\u001b[1;33m\u001b[0m\u001b[0m\n\u001b[0m\u001b[0;32m    578\u001b[0m             \u001b[1;32mwith\u001b[0m \u001b[0m_read_fileobject\u001b[0m\u001b[1;33m(\u001b[0m\u001b[0mf\u001b[0m\u001b[1;33m,\u001b[0m \u001b[0mfilename\u001b[0m\u001b[1;33m,\u001b[0m \u001b[0mmmap_mode\u001b[0m\u001b[1;33m)\u001b[0m \u001b[1;32mas\u001b[0m \u001b[0mfobj\u001b[0m\u001b[1;33m:\u001b[0m\u001b[1;33m\u001b[0m\u001b[1;33m\u001b[0m\u001b[0m\n\u001b[0;32m    579\u001b[0m                 \u001b[1;32mif\u001b[0m \u001b[0misinstance\u001b[0m\u001b[1;33m(\u001b[0m\u001b[0mfobj\u001b[0m\u001b[1;33m,\u001b[0m \u001b[0mstr\u001b[0m\u001b[1;33m)\u001b[0m\u001b[1;33m:\u001b[0m\u001b[1;33m\u001b[0m\u001b[1;33m\u001b[0m\u001b[0m\n",
      "\u001b[1;31mFileNotFoundError\u001b[0m: [Errno 2] No such file or directory: '../classifiers/best_preprocessor.pkl'"
     ]
    }
   ],
   "source": [
    "# Load the preprocessor (REPLACE WITH YOUR CODE)\n",
    "preproc = joblib.load('../classifiers/best_preprocessor.pkl') \n",
    "\n",
    "# Load your final model (REPLACE WITH YOUR CODE)\n",
    "clf = joblib.load('../classifiers/best_classifier.pkl') "
   ]
  },
  {
   "cell_type": "code",
   "execution_count": 8,
   "metadata": {},
   "outputs": [],
   "source": [
    "def classify_image(filename):\n",
    "\"\"\"\n",
    "Load an image from file and predict the four digits in the image.\n",
    "The result should be an array containing the 4 digits (as string)\n",
    "\"\"\"\n",
    "    result = list()\n",
    "    \n",
    "    ### <YOUR CODE HERE>\n",
    "    \n",
    "    # Load the image from file\n",
    "    img_array = skimage.io.imread(filename)\n",
    "    \n",
    "    # For each digit, collect features, preprocess and predict\n",
    "    for i in range(4):\n",
    "        result.append(str(i))\n",
    "        \n",
    "    ### </YOUR CODE HERE>\n",
    "    \n",
    "    return result"
   ]
  },
  {
   "cell_type": "markdown",
   "metadata": {},
   "source": [
    "# Score your model (DON'T CHANGE THIS CODE!!!)"
   ]
  },
  {
   "cell_type": "code",
   "execution_count": 29,
   "metadata": {},
   "outputs": [
    {
     "name": "stdout",
     "output_type": "stream",
     "text": [
      "Digit accuracy:  0.07083333333333333 ( 136 / 1784 )\n",
      "Zipcode accuracy:  0.0 ( 0 / 480 )\n"
     ]
    }
   ],
   "source": [
    "DATASET_FOLDER = '../dataset-images/'\n",
    "\n",
    "# Outcomes\n",
    "correct_classified_digits = 0\n",
    "incorrect_classified_digits = 0\n",
    "correct_classified_zipcodes = 0\n",
    "incorrect_classified_zipcodes = 0\n",
    "\n",
    "# Score the classifier\n",
    "files = glob.glob(os.path.join(DATASET_FOLDER, '*.png'))\n",
    "for f in files:\n",
    "    # Get the correct label from the filename\n",
    "    correct_label = f[-8:-4]\n",
    "    # Predict using the classifier\n",
    "    predicted_label = classify_image(f)\n",
    "    \n",
    "    # Score digits\n",
    "    zipcode_correct = True\n",
    "    for i in range(len(correct_label)):\n",
    "        if str(correct_label[i]) == str(predicted_label[i]):\n",
    "            correct_classified_digits += 1\n",
    "        else:\n",
    "            incorrect_classified_digits += 1\n",
    "            zipcode_correct = False\n",
    "    \n",
    "    # Score correct zipcodes\n",
    "    if zipcode_correct:\n",
    "        correct_classified_zipcodes += 1\n",
    "    else:\n",
    "        incorrect_classified_zipcodes += 1\n",
    "\n",
    "print(\"Digit accuracy: \", (correct_classified_digits / (correct_classified_digits + incorrect_classified_digits)), \"(\", correct_classified_digits, \"/\", incorrect_classified_digits, \")\")\n",
    "print(\"Zipcode accuracy: \", (correct_classified_zipcodes / (correct_classified_zipcodes + incorrect_classified_zipcodes)), \"(\", correct_classified_zipcodes, \"/\", incorrect_classified_zipcodes, \")\")        \n"
   ]
  },
  {
   "cell_type": "code",
   "execution_count": null,
   "metadata": {},
   "outputs": [],
   "source": []
  }
 ],
 "metadata": {
  "kernelspec": {
   "display_name": "Python 3",
   "language": "python",
   "name": "python3"
  },
  "language_info": {
   "codemirror_mode": {
    "name": "ipython",
    "version": 3
   },
   "file_extension": ".py",
   "mimetype": "text/x-python",
   "name": "python",
   "nbconvert_exporter": "python",
   "pygments_lexer": "ipython3",
   "version": "3.8.9"
  },
  "toc": {
   "base_numbering": 1,
   "nav_menu": {},
   "number_sections": true,
   "sideBar": true,
   "skip_h1_title": false,
   "title_cell": "Table of Contents",
   "title_sidebar": "Contents",
   "toc_cell": false,
   "toc_position": {},
   "toc_section_display": true,
   "toc_window_display": false
  },
  "varInspector": {
   "cols": {
    "lenName": 16,
    "lenType": 16,
    "lenVar": 40
   },
   "kernels_config": {
    "python": {
     "delete_cmd_postfix": "",
     "delete_cmd_prefix": "del ",
     "library": "var_list.py",
     "varRefreshCmd": "print(var_dic_list())"
    },
    "r": {
     "delete_cmd_postfix": ") ",
     "delete_cmd_prefix": "rm(",
     "library": "var_list.r",
     "varRefreshCmd": "cat(var_dic_list()) "
    }
   },
   "types_to_exclude": [
    "module",
    "function",
    "builtin_function_or_method",
    "instance",
    "_Feature"
   ],
   "window_display": false
  }
 },
 "nbformat": 4,
 "nbformat_minor": 1
}
