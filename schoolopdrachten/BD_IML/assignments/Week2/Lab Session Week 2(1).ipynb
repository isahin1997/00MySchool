{
 "cells": [
  {
   "cell_type": "markdown",
   "metadata": {},
   "source": [
    "## Student Number : 408846\n",
    "## Student Name : Ibrahim Sahin\n",
    "\n",
    "# Lab session week 2: NumPy, Pandas\n",
    "\n",
    "Last week you learned how to work with Matplotlib. This week we will extend your basic scientific python knowledge by looking at NumPy and Pandas.\n",
    "\n",
    "NumPy is the fundamental package for scientific computing with Python. It contains n-dimensional arrays, sophisticated functions and linear algebra operations.\n",
    "\n",
    "Pandas is an easy-to-use high-performant data-structures and data analysis tool.\n",
    "\n",
    "In this lab session you will work with these libraries and explore the basics."
   ]
  },
  {
   "cell_type": "code",
   "execution_count": 1,
   "metadata": {},
   "outputs": [],
   "source": [
    "# First we import the libraries that we need\n",
    "from IPython.display import HTML, IFrame\n",
    "import numpy as np\n",
    "import pandas as pd\n",
    "import matplotlib\n",
    "import matplotlib.pyplot as plt\n",
    "%matplotlib inline\n",
    "\n",
    "# Config: size of the figures\n",
    "matplotlib.rcParams['figure.figsize'] = [10, 6]"
   ]
  },
  {
   "cell_type": "markdown",
   "metadata": {},
   "source": [
    "## Data-structures in Python\n",
    "\n",
    "### Exercise 1: exploring the default data structures\n",
    "Python has 5 default structures: lists, tuples, dicts, sets and frozensets. Find you what the difference is between them and try them out. Try also to convert from one type to the other."
   ]
  },
  {
   "cell_type": "code",
   "execution_count": 2,
   "metadata": {},
   "outputs": [
    {
     "name": "stdout",
     "output_type": "stream",
     "text": [
      "[1, 2, 3, 4, 5]\n",
      "[1, 2, 3, 4, 5, 6]\n",
      "[1, 2, 2.5, 3, 4, 5, 6]\n",
      "[1, 2, 2.5, 3, 4, 5]\n",
      "[1, 2, 3, 4, 5]\n",
      "-----------------\n",
      "(1, 2, 3)\n",
      "1\n",
      "(1, 2)\n",
      "-----------------\n",
      "{1, 2, 3, 4, 5}\n",
      "----------------\n",
      "{'1': 1, '2': 2, 3: 3}\n",
      "3\n"
     ]
    }
   ],
   "source": [
    "# Your code here\n",
    "\n",
    "#list\n",
    "\n",
    "numbers = [1,2,3,4,5]\n",
    "print(numbers)\n",
    "numbers.append(6)\n",
    "print(numbers)\n",
    "numbers.insert(2, 2.5)\n",
    "print(numbers)\n",
    "numbers.remove(6)\n",
    "print(numbers)\n",
    "numbers.pop(2)\n",
    "print(numbers)\n",
    "\n",
    "# tuples\n",
    "print('-----------------')\n",
    "t = 1, 2, 3\n",
    "print(t)\n",
    "print(t[0])\n",
    "t = 1,2\n",
    "print(t)\n",
    "\n",
    "# sets\n",
    "print('-----------------')\n",
    "test = {1,2,3,4,5}\n",
    "print(test)\n",
    "1 in test\n",
    "\n",
    "# dictionary\n",
    "print('----------------')\n",
    "tel = {'1':1, '2':2, 3:3}\n",
    "print(tel)\n",
    "print(tel[3])"
   ]
  },
  {
   "cell_type": "markdown",
   "metadata": {},
   "source": [
    "## Exploring NumPy\n",
    "Complete the following exercises. It might be useful to use the following cheatsheet: https://s3.amazonaws.com/assets.datacamp.com/blog_assets/Numpy_Python_Cheat_Sheet.pdf"
   ]
  },
  {
   "cell_type": "markdown",
   "metadata": {},
   "source": [
    "### Exercise 2: Creating arrays and selecting/replacing values"
   ]
  },
  {
   "cell_type": "markdown",
   "metadata": {},
   "source": [
    "#### Exercise 2.1: Create an NumPy array with the numbers 1 to 9.\n",
    "Please do this exercise in two ways:\n",
    "1. by converting a python array into a numpy array\n",
    "2. by creating a NumPy array with NumPy methods"
   ]
  },
  {
   "cell_type": "code",
   "execution_count": 3,
   "metadata": {
    "scrolled": true
   },
   "outputs": [
    {
     "name": "stdout",
     "output_type": "stream",
     "text": [
      "[1 2 3 4 5 6 7 8 9]\n",
      "[1 2 3 4 5 6 7 8 9]\n"
     ]
    }
   ],
   "source": [
    "# Your code here\n",
    "# 1\n",
    "array = [1,2,3,4,5,6,7,8,9]\n",
    "a = np.array(array)\n",
    "print(a)\n",
    "\n",
    "# 2\n",
    "b = np.arange(1,10,1)\n",
    "print(b)\n"
   ]
  },
  {
   "cell_type": "markdown",
   "metadata": {},
   "source": [
    "#### Exercise 2.2: Create an NumPy matrix of size 3x2 with random values"
   ]
  },
  {
   "cell_type": "code",
   "execution_count": 4,
   "metadata": {},
   "outputs": [
    {
     "name": "stdout",
     "output_type": "stream",
     "text": [
      "[[0.74533803 0.71824539]\n",
      " [0.37986717 0.90384974]\n",
      " [0.63781937 0.16813241]]\n"
     ]
    }
   ],
   "source": [
    "# Your code here\n",
    "f = np.random.random((3,2))\n",
    "print(f)"
   ]
  },
  {
   "cell_type": "markdown",
   "metadata": {},
   "source": [
    "#### Exercise 2.3: Create a boolean matrix of size 4x3 with values False"
   ]
  },
  {
   "cell_type": "code",
   "execution_count": 5,
   "metadata": {
    "scrolled": true
   },
   "outputs": [
    {
     "name": "stdout",
     "output_type": "stream",
     "text": [
      "[[False False False]\n",
      " [False False False]\n",
      " [False False False]\n",
      " [False False False]]\n"
     ]
    }
   ],
   "source": [
    "# Your code here\n",
    "g = np.zeros((4,3), dtype=bool)\n",
    "print(g)"
   ]
  },
  {
   "cell_type": "markdown",
   "metadata": {},
   "source": [
    "In the next exercises we will reuse the array of exercise 2.1.\n",
    "\n",
    "#### Exercise 2.4: Select all values larger than 5 and show these values"
   ]
  },
  {
   "cell_type": "code",
   "execution_count": 6,
   "metadata": {
    "scrolled": true
   },
   "outputs": [
    {
     "data": {
      "text/plain": [
       "array([6, 7, 8, 9])"
      ]
     },
     "execution_count": 6,
     "metadata": {},
     "output_type": "execute_result"
    }
   ],
   "source": [
    "# Your code here\n",
    "b[b>5]"
   ]
  },
  {
   "cell_type": "markdown",
   "metadata": {},
   "source": [
    "#### Exercise 2.5: Replace all values larger than 5 by 1"
   ]
  },
  {
   "cell_type": "code",
   "execution_count": 7,
   "metadata": {
    "scrolled": true
   },
   "outputs": [
    {
     "name": "stdout",
     "output_type": "stream",
     "text": [
      "[1 2 3 4 5 1 1 1 1]\n"
     ]
    }
   ],
   "source": [
    "# Your code here\n",
    "b[b>5] = 1\n",
    "print(b)"
   ]
  },
  {
   "cell_type": "markdown",
   "metadata": {},
   "source": [
    "In the following exercises we will reuse the matrix of exercise 2.2.\n",
    "\n",
    "#### Exercise 2.6: Write three selectors for: 1. the first row, 2. the second column of the matrix and 3. Every odd row"
   ]
  },
  {
   "cell_type": "code",
   "execution_count": 8,
   "metadata": {},
   "outputs": [
    {
     "name": "stdout",
     "output_type": "stream",
     "text": [
      "[0.74533803 0.71824539]\n"
     ]
    },
    {
     "data": {
      "text/plain": [
       "array([[0.74533803, 0.71824539],\n",
       "       [0.63781937, 0.16813241]])"
      ]
     },
     "execution_count": 8,
     "metadata": {},
     "output_type": "execute_result"
    }
   ],
   "source": [
    "# Your code here\n",
    "\n",
    "# 1\n",
    "print(f[0])\n",
    "# 2\n",
    "f[:,1]\n",
    "# 3\n",
    "f[::2]"
   ]
  },
  {
   "cell_type": "markdown",
   "metadata": {},
   "source": [
    "### Exercise 3: Conversion, stacking and swapping\n",
    "#### Exercise 3.1: What is the difference between shape, size and dtype?"
   ]
  },
  {
   "cell_type": "code",
   "execution_count": 9,
   "metadata": {},
   "outputs": [
    {
     "name": "stdout",
     "output_type": "stream",
     "text": [
      "[[[0.98735183 0.65976431]\n",
      "  [0.82852904 0.19207916]\n",
      "  [0.3110644  0.47732774]]\n",
      "\n",
      " [[0.45139179 0.14597382]\n",
      "  [0.46706912 0.63372246]\n",
      "  [0.50442924 0.14912435]]\n",
      "\n",
      " [[0.25970055 0.71010782]\n",
      "  [0.81472882 0.48979079]\n",
      "  [0.59254595 0.3898623 ]]\n",
      "\n",
      " [[0.62443838 0.84787119]\n",
      "  [0.63796524 0.56424847]\n",
      "  [0.84899019 0.26236342]]]\n",
      "(4, 3, 2)\n",
      "24\n",
      "float64\n"
     ]
    }
   ],
   "source": [
    "# Your code here\n",
    "d = np.random.random((4,3,2))\n",
    "print(d)\n",
    "\n",
    "# shape -> dimensie van de numpy arras. 4 bij 2 in dit geval\n",
    "print(d.shape)\n",
    "\n",
    "# size -> aantal array elementen\n",
    "print(d.size)\n",
    "\n",
    "#dtype type van array elementen\n",
    "print(d.dtype)\n",
    "\n"
   ]
  },
  {
   "cell_type": "markdown",
   "metadata": {},
   "source": [
    "#### Exercise 3.2: Convert an 1D array with 21 elements in: a 2D array with...\n",
    "1. A matrix with 3 rows\n",
    "2. A matrix with 3 columns\n",
    "3. What happens when you change one of the dimensions into -1?"
   ]
  },
  {
   "cell_type": "code",
   "execution_count": 10,
   "metadata": {
    "scrolled": true
   },
   "outputs": [
    {
     "name": "stdout",
     "output_type": "stream",
     "text": [
      "[ 1  2  3  4  5  6  7  8  9 10 11 12 13 14 15 16 17 18 19 20 21]\n",
      "[[ 1  2  3  4  5  6  7]\n",
      " [ 8  9 10 11 12 13 14]\n",
      " [15 16 17 18 19 20 21]]\n",
      "[[ 1  2  3]\n",
      " [ 4  5  6]\n",
      " [ 7  8  9]\n",
      " [10 11 12]\n",
      " [13 14 15]\n",
      " [16 17 18]\n",
      " [19 20 21]]\n",
      "[[ 1  2  3  4  5  6  7]\n",
      " [ 8  9 10 11 12 13 14]\n",
      " [15 16 17 18 19 20 21]]\n"
     ]
    }
   ],
   "source": [
    "a = np.arange(1,22)\n",
    "\n",
    "# Your code here\n",
    "print(a)\n",
    "\n",
    "# 1\n",
    "b = a.reshape(3,7)\n",
    "print(b)\n",
    "# 2 \n",
    "b = a.reshape(7,3)\n",
    "print(b)\n",
    "# 3\n",
    "b = a.reshape(3,-1)\n",
    "print(b)\n",
    "\n",
    "# 3: fils the gap to create a dimensional array."
   ]
  },
  {
   "cell_type": "markdown",
   "metadata": {},
   "source": [
    "#### Exercise 3.3: Stack the following arrays:\n",
    "1. Vertically\n",
    "2. Horizontally"
   ]
  },
  {
   "cell_type": "code",
   "execution_count": 11,
   "metadata": {
    "scrolled": true
   },
   "outputs": [
    {
     "name": "stdout",
     "output_type": "stream",
     "text": [
      "[[ 1  2]\n",
      " [ 3  4]\n",
      " [ 5  6]\n",
      " [ 7  8]\n",
      " [ 9 10]\n",
      " [11 12]]\n",
      "[[ 1  2  7  8]\n",
      " [ 3  4  9 10]\n",
      " [ 5  6 11 12]]\n"
     ]
    }
   ],
   "source": [
    "a = np.array([[1,2],[3,4],[5,6]])\n",
    "b = np.array([[7,8],[9,10],[11,12]])\n",
    "\n",
    "# Your code here\n",
    "# 1\n",
    "c = np.vstack((a,b))\n",
    "print(c)\n",
    "c = np.hstack((a,b))\n",
    "print(c)"
   ]
  },
  {
   "cell_type": "markdown",
   "metadata": {},
   "source": [
    "### Exercise 4: broadcasting and matrix operations\n",
    "By default NumPy uses broadcasting in stead of the well known linear algebra concepts (such as matrix multiplication). Study the following article to understand broadcasting: https://jakevdp.github.io/PythonDataScienceHandbook/02.05-computation-on-arrays-broadcasting.html\n",
    "\n",
    "Use the following datatypes for the exercises:"
   ]
  },
  {
   "cell_type": "code",
   "execution_count": 12,
   "metadata": {
    "scrolled": true
   },
   "outputs": [],
   "source": [
    "mat = np.arange(1,10, dtype=np.float64).reshape((3,-1))\n",
    "vec = np.arange(1,4)"
   ]
  },
  {
   "cell_type": "markdown",
   "metadata": {},
   "source": [
    "#### Exercise 4.1: Apply the following mathematical operations:\n",
    "1. Add the vector to the matrix\n",
    "2. Multiply the matrix with the scalar value 3\n",
    "3. Multiply the matrix with the vector"
   ]
  },
  {
   "cell_type": "code",
   "execution_count": 13,
   "metadata": {
    "scrolled": true
   },
   "outputs": [
    {
     "name": "stdout",
     "output_type": "stream",
     "text": [
      "[[1. 2. 3.]\n",
      " [4. 5. 6.]\n",
      " [7. 8. 9.]]\n",
      "[1 2 3]\n",
      "[[1. 2. 3.]\n",
      " [4. 5. 6.]\n",
      " [7. 8. 9.]\n",
      " [1. 2. 3.]]\n",
      "[[ 3.  6.  9.]\n",
      " [12. 15. 18.]\n",
      " [21. 24. 27.]]\n",
      "[[ 1.  4.  9.]\n",
      " [ 4. 10. 18.]\n",
      " [ 7. 16. 27.]]\n"
     ]
    }
   ],
   "source": [
    "# Your code here\n",
    "print(mat)\n",
    "print(vec)\n",
    "\n",
    "# 1\n",
    "print(np.concatenate((mat,vec.reshape(1,3))))\n",
    "\n",
    "# 2\n",
    "print(mat * 3)\n",
    "\n",
    "# 3\n",
    "print(mat * vec)"
   ]
  },
  {
   "cell_type": "markdown",
   "metadata": {},
   "source": [
    "#### Exercise 4.2: Matrix operations\n",
    "1. Transpose the matrix\n",
    "2. Apply a matrix multiplication with the original matrix and the transposed matrix"
   ]
  },
  {
   "cell_type": "code",
   "execution_count": 14,
   "metadata": {
    "scrolled": true
   },
   "outputs": [
    {
     "name": "stdout",
     "output_type": "stream",
     "text": [
      "[[1. 4. 7.]\n",
      " [2. 5. 8.]\n",
      " [3. 6. 9.]]\n",
      "[[ 1.  8. 21.]\n",
      " [ 8. 25. 48.]\n",
      " [21. 48. 81.]]\n"
     ]
    }
   ],
   "source": [
    "# Your code here\n",
    "# 1\n",
    "i = np.transpose(mat)\n",
    "print(i)\n",
    "# 2\n",
    "print (mat * np.transpose(mat))"
   ]
  },
  {
   "cell_type": "markdown",
   "metadata": {},
   "source": [
    "#### Exercise 4.3: Aggregation\n",
    "1. Calculate the sum, mean and standard deviation of the whole matrix\n",
    "2. Calculte the sum, mean and standard deviation of each row\n",
    "3. Calculte the sum, mean and standard deviation of each column"
   ]
  },
  {
   "cell_type": "code",
   "execution_count": 15,
   "metadata": {
    "scrolled": true
   },
   "outputs": [
    {
     "name": "stdout",
     "output_type": "stream",
     "text": [
      "sum:  45.0\n",
      "mean:  5.0\n",
      "sdev:  2.581988897471611\n"
     ]
    }
   ],
   "source": [
    "# Your code here\n",
    "# 1\n",
    "print('sum: ' , mat.sum())\n",
    "print('mean: ' , mat.mean())\n",
    "print('sdev: ' , np.std(mat))"
   ]
  },
  {
   "cell_type": "markdown",
   "metadata": {},
   "source": [
    "#### Exercise 4.4: Simplification of for-loops\n",
    "Last week we have implemented the sum of squared errors function (see below). Please rewrite this whole function into one NumPy statement"
   ]
  },
  {
   "cell_type": "code",
   "execution_count": 16,
   "metadata": {},
   "outputs": [
    {
     "name": "stdout",
     "output_type": "stream",
     "text": [
      "1.0224078756715378\n",
      "1.0224078756715378\n"
     ]
    }
   ],
   "source": [
    "def SSE(real, pred):\n",
    "    result = 0;\n",
    "    for i in range(0, len(real)):\n",
    "        result += (real[i] - pred[i]) ** 2\n",
    "    return result\n",
    "\n",
    "# Simulation of real data and predicted data\n",
    "real = np.arange(1,5, dtype=np.float64)\n",
    "pred = real + np.random.rand(4)\n",
    "\n",
    "# Test the SSE function\n",
    "print(SSE(real, pred))\n",
    "\n",
    "# Your code here\n",
    "print(((real-pred)**2).sum())\n"
   ]
  },
  {
   "cell_type": "markdown",
   "metadata": {},
   "source": [
    "## Explore Pandas\n",
    "The following cheatsheet could be useful: https://raw.githubusercontent.com/pandas-dev/pandas/master/doc/cheatsheet/Pandas_Cheat_Sheet.pdf\n",
    "\n",
    "Read the following pandas guide: https://pandas.pydata.org/pandas-docs/stable/10min.html and do apply your knowledge in the exercise below.\n",
    "\n",
    "### Exercise 5: reading and plotting data\n",
    "We will use the dataset `weather.csv` from blackboard in this exercise. The file contains the following columns:\n",
    "- dteday: date\n",
    "- season: season (1:springer, 2:summer, 3:fall, 4:winter)\n",
    "- weathersit: \n",
    "    - 1: Clear, Few clouds, Partly cloudy, Partly cloudy\n",
    "    - 2: Mist + Cloudy, Mist + Broken clouds, Mist + Few clouds, Mist\n",
    "    - 3: Light Snow, Light Rain + Thunderstorm + Scattered clouds, Light Rain + Scattered clouds\n",
    "    - 4: Heavy Rain + Ice Pallets + Thunderstorm + Mist, Snow + Fog\n",
    "- temp : Normalized temperature in Celsius. The values are divided to 41 (max)\n",
    "- atemp: Normalized feeling temperature in Celsius. The values are divided to 50 (max)\n",
    "- hum: Normalized humidity. The values are divided to 100 (max)\n",
    "- windspeed: Normalized wind speed. The values are divided to 67 (max)\n",
    "\n",
    "We want to use pandas and matplotlib to analyze this dataset. Please write code for the following questions:\n",
    "- Show the temperature and the feeling temperature in a graph\n",
    "- Group the dataframe by month\n",
    "- Show the mean temperature and mean feeling temperature per month in a bar chart\n",
    "- Remove all the columns except for date, temp and atmp and store in a new CSV file\n",
    "- Show the statistics for each column (mean, sum, stddev)"
   ]
  },
  {
   "cell_type": "code",
   "execution_count": 17,
   "metadata": {},
   "outputs": [
    {
     "name": "stdout",
     "output_type": "stream",
     "text": [
      "0      0.344167\n",
      "1      0.363478\n",
      "2      0.196364\n",
      "3      0.200000\n",
      "4      0.226957\n",
      "         ...   \n",
      "726    0.254167\n",
      "727    0.253333\n",
      "728    0.253333\n",
      "729    0.255833\n",
      "730    0.215833\n",
      "Name: temp, Length: 731, dtype: float64\n"
     ]
    }
   ],
   "source": [
    "# Your code here\n",
    "df = pd.read_csv('weather.csv', delimiter=';')\n",
    "print(df['temp'])"
   ]
  },
  {
   "cell_type": "code",
   "execution_count": 18,
   "metadata": {
    "scrolled": true
   },
   "outputs": [
    {
     "name": "stdout",
     "output_type": "stream",
     "text": [
      "     instant    dteday  season  weathersit      temp     atemp       hum  \\\n",
      "0          1  01/01/11       1           2  0.344167  0.363625  0.805833   \n",
      "1          2  02/01/11       1           2  0.363478  0.353739  0.696087   \n",
      "2          3  03/01/11       1           1  0.196364  0.189405  0.437273   \n",
      "3          4  04/01/11       1           1  0.200000  0.212122  0.590435   \n",
      "4          5  05/01/11       1           1  0.226957  0.229270  0.436957   \n",
      "..       ...       ...     ...         ...       ...       ...       ...   \n",
      "726      727  27/12/12       1           2  0.254167  0.226642  0.652917   \n",
      "727      728  28/12/12       1           2  0.253333  0.255046  0.590000   \n",
      "728      729  29/12/12       1           2  0.253333  0.242400  0.752917   \n",
      "729      730  30/12/12       1           1  0.255833  0.231700  0.483333   \n",
      "730      731  31/12/12       1           2  0.215833  0.223487  0.577500   \n",
      "\n",
      "     windspeed  \n",
      "0     0.160446  \n",
      "1     0.248539  \n",
      "2     0.248309  \n",
      "3     0.160296  \n",
      "4     0.186900  \n",
      "..         ...  \n",
      "726   0.350133  \n",
      "727   0.155471  \n",
      "728   0.124383  \n",
      "729   0.350754  \n",
      "730   0.154846  \n",
      "\n",
      "[731 rows x 8 columns]\n",
      "<pandas.core.groupby.generic.DataFrameGroupBy object at 0x0000026AEF7F8EE0>\n"
     ]
    },
    {
     "data": {
      "image/png": "[encoded data removed]",
      "text/plain": [
       "<Figure size 720x432 with 1 Axes>"
      ]
     },
     "metadata": {
      "needs_background": "light"
     },
     "output_type": "display_data"
    }
   ],
   "source": [
    "print(df)\n",
    "\n",
    "plt.figure()\n",
    "\n",
    "df['temp'].plot()\n",
    "df['atemp'].plot()\n",
    "\n",
    "#----------------\n",
    "\n",
    "print(df.groupby(by='dteday'))\n"
   ]
  },
  {
   "cell_type": "code",
   "execution_count": 28,
   "metadata": {
    "scrolled": true
   },
   "outputs": [
    {
     "data": {
      "text/plain": [
       "<BarContainer object of 12 artists>"
      ]
     },
     "execution_count": 28,
     "metadata": {},
     "output_type": "execute_result"
    },
    {
     "data": {
      "image/png": "[encoded data removed]",
      "text/plain": [
       "<Figure size 720x432 with 1 Axes>"
      ]
     },
     "metadata": {
      "needs_background": "light"
     },
     "output_type": "display_data"
    }
   ],
   "source": [
    "df2 = df\n",
    "df2['dteday'] = pd.to_datetime(df2['dteday'])\n",
    "meanTemp = dfdf2.groupby(df2['dteday'].dt.strftime('%B'))['temp'].mean()\n",
    "meanFeelingTemp = df2.groupby(df2['dteday'].dt.strftime('%B'))['atemp'].mean()\n",
    "\n",
    "X = np.arange(12)\n",
    "fig = plt.figure()\n",
    "ax = fig.add_axes([0,0,1,1])\n",
    "ax.bar(X + 0.00, meanTemp, color = 'b', width = 0.25)\n",
    "ax.bar(X + 0.25, meanFeelingTemp, color = 'g', width = 0.25)"
   ]
  },
  {
   "cell_type": "code",
   "execution_count": 29,
   "metadata": {},
   "outputs": [],
   "source": [
    "droppedTable = df.drop(columns=['instant','season','weathersit','hum', 'windspeed'])\n",
    "droppedTable.to_csv('result.csv', index=False)"
   ]
  },
  {
   "cell_type": "code",
   "execution_count": 30,
   "metadata": {},
   "outputs": [
    {
     "name": "stderr",
     "output_type": "stream",
     "text": [
      "<ipython-input-30-174ba9bf1a5c>:1: FutureWarning: Treating datetime data as categorical rather than numeric in `.describe` is deprecated and will be removed in a future version of pandas. Specify `datetime_is_numeric=True` to silence this warning and adopt the future behavior now.\n",
      "  df.describe(include='all')\n"
     ]
    },
    {
     "data": {
      "text/html": [
       "<div>\n",
       "<style scoped>\n",
       "    .dataframe tbody tr th:only-of-type {\n",
       "        vertical-align: middle;\n",
       "    }\n",
       "\n",
       "    .dataframe tbody tr th {\n",
       "        vertical-align: top;\n",
       "    }\n",
       "\n",
       "    .dataframe thead th {\n",
       "        text-align: right;\n",
       "    }\n",
       "</style>\n",
       "<table border=\"1\" class=\"dataframe\">\n",
       "  <thead>\n",
       "    <tr style=\"text-align: right;\">\n",
       "      <th></th>\n",
       "      <th>instant</th>\n",
       "      <th>dteday</th>\n",
       "      <th>season</th>\n",
       "      <th>weathersit</th>\n",
       "      <th>temp</th>\n",
       "      <th>atemp</th>\n",
       "      <th>hum</th>\n",
       "      <th>windspeed</th>\n",
       "    </tr>\n",
       "  </thead>\n",
       "  <tbody>\n",
       "    <tr>\n",
       "      <th>count</th>\n",
       "      <td>731.000000</td>\n",
       "      <td>731</td>\n",
       "      <td>731.000000</td>\n",
       "      <td>731.000000</td>\n",
       "      <td>731.000000</td>\n",
       "      <td>731.000000</td>\n",
       "      <td>731.000000</td>\n",
       "      <td>731.000000</td>\n",
       "    </tr>\n",
       "    <tr>\n",
       "      <th>unique</th>\n",
       "      <td>NaN</td>\n",
       "      <td>731</td>\n",
       "      <td>NaN</td>\n",
       "      <td>NaN</td>\n",
       "      <td>NaN</td>\n",
       "      <td>NaN</td>\n",
       "      <td>NaN</td>\n",
       "      <td>NaN</td>\n",
       "    </tr>\n",
       "    <tr>\n",
       "      <th>top</th>\n",
       "      <td>NaN</td>\n",
       "      <td>2011-12-14 00:00:00</td>\n",
       "      <td>NaN</td>\n",
       "      <td>NaN</td>\n",
       "      <td>NaN</td>\n",
       "      <td>NaN</td>\n",
       "      <td>NaN</td>\n",
       "      <td>NaN</td>\n",
       "    </tr>\n",
       "    <tr>\n",
       "      <th>freq</th>\n",
       "      <td>NaN</td>\n",
       "      <td>1</td>\n",
       "      <td>NaN</td>\n",
       "      <td>NaN</td>\n",
       "      <td>NaN</td>\n",
       "      <td>NaN</td>\n",
       "      <td>NaN</td>\n",
       "      <td>NaN</td>\n",
       "    </tr>\n",
       "    <tr>\n",
       "      <th>first</th>\n",
       "      <td>NaN</td>\n",
       "      <td>2011-01-01 00:00:00</td>\n",
       "      <td>NaN</td>\n",
       "      <td>NaN</td>\n",
       "      <td>NaN</td>\n",
       "      <td>NaN</td>\n",
       "      <td>NaN</td>\n",
       "      <td>NaN</td>\n",
       "    </tr>\n",
       "    <tr>\n",
       "      <th>last</th>\n",
       "      <td>NaN</td>\n",
       "      <td>2012-12-31 00:00:00</td>\n",
       "      <td>NaN</td>\n",
       "      <td>NaN</td>\n",
       "      <td>NaN</td>\n",
       "      <td>NaN</td>\n",
       "      <td>NaN</td>\n",
       "      <td>NaN</td>\n",
       "    </tr>\n",
       "    <tr>\n",
       "      <th>mean</th>\n",
       "      <td>366.000000</td>\n",
       "      <td>NaN</td>\n",
       "      <td>2.496580</td>\n",
       "      <td>1.395349</td>\n",
       "      <td>0.495385</td>\n",
       "      <td>0.474354</td>\n",
       "      <td>0.627894</td>\n",
       "      <td>0.190486</td>\n",
       "    </tr>\n",
       "    <tr>\n",
       "      <th>std</th>\n",
       "      <td>211.165812</td>\n",
       "      <td>NaN</td>\n",
       "      <td>1.110807</td>\n",
       "      <td>0.544894</td>\n",
       "      <td>0.183051</td>\n",
       "      <td>0.162961</td>\n",
       "      <td>0.142429</td>\n",
       "      <td>0.077498</td>\n",
       "    </tr>\n",
       "    <tr>\n",
       "      <th>min</th>\n",
       "      <td>1.000000</td>\n",
       "      <td>NaN</td>\n",
       "      <td>1.000000</td>\n",
       "      <td>1.000000</td>\n",
       "      <td>0.059130</td>\n",
       "      <td>0.079070</td>\n",
       "      <td>0.000000</td>\n",
       "      <td>0.022392</td>\n",
       "    </tr>\n",
       "    <tr>\n",
       "      <th>25%</th>\n",
       "      <td>183.500000</td>\n",
       "      <td>NaN</td>\n",
       "      <td>2.000000</td>\n",
       "      <td>1.000000</td>\n",
       "      <td>0.337083</td>\n",
       "      <td>0.337842</td>\n",
       "      <td>0.520000</td>\n",
       "      <td>0.134950</td>\n",
       "    </tr>\n",
       "    <tr>\n",
       "      <th>50%</th>\n",
       "      <td>366.000000</td>\n",
       "      <td>NaN</td>\n",
       "      <td>3.000000</td>\n",
       "      <td>1.000000</td>\n",
       "      <td>0.498333</td>\n",
       "      <td>0.486733</td>\n",
       "      <td>0.626667</td>\n",
       "      <td>0.180975</td>\n",
       "    </tr>\n",
       "    <tr>\n",
       "      <th>75%</th>\n",
       "      <td>548.500000</td>\n",
       "      <td>NaN</td>\n",
       "      <td>3.000000</td>\n",
       "      <td>2.000000</td>\n",
       "      <td>0.655417</td>\n",
       "      <td>0.608602</td>\n",
       "      <td>0.730209</td>\n",
       "      <td>0.233214</td>\n",
       "    </tr>\n",
       "    <tr>\n",
       "      <th>max</th>\n",
       "      <td>731.000000</td>\n",
       "      <td>NaN</td>\n",
       "      <td>4.000000</td>\n",
       "      <td>3.000000</td>\n",
       "      <td>0.861667</td>\n",
       "      <td>0.840896</td>\n",
       "      <td>0.972500</td>\n",
       "      <td>0.507463</td>\n",
       "    </tr>\n",
       "  </tbody>\n",
       "</table>\n",
       "</div>"
      ],
      "text/plain": [
       "           instant               dteday      season  weathersit        temp  \\\n",
       "count   731.000000                  731  731.000000  731.000000  731.000000   \n",
       "unique         NaN                  731         NaN         NaN         NaN   \n",
       "top            NaN  2011-12-14 00:00:00         NaN         NaN         NaN   \n",
       "freq           NaN                    1         NaN         NaN         NaN   \n",
       "first          NaN  2011-01-01 00:00:00         NaN         NaN         NaN   \n",
       "last           NaN  2012-12-31 00:00:00         NaN         NaN         NaN   \n",
       "mean    366.000000                  NaN    2.496580    1.395349    0.495385   \n",
       "std     211.165812                  NaN    1.110807    0.544894    0.183051   \n",
       "min       1.000000                  NaN    1.000000    1.000000    0.059130   \n",
       "25%     183.500000                  NaN    2.000000    1.000000    0.337083   \n",
       "50%     366.000000                  NaN    3.000000    1.000000    0.498333   \n",
       "75%     548.500000                  NaN    3.000000    2.000000    0.655417   \n",
       "max     731.000000                  NaN    4.000000    3.000000    0.861667   \n",
       "\n",
       "             atemp         hum   windspeed  \n",
       "count   731.000000  731.000000  731.000000  \n",
       "unique         NaN         NaN         NaN  \n",
       "top            NaN         NaN         NaN  \n",
       "freq           NaN         NaN         NaN  \n",
       "first          NaN         NaN         NaN  \n",
       "last           NaN         NaN         NaN  \n",
       "mean      0.474354    0.627894    0.190486  \n",
       "std       0.162961    0.142429    0.077498  \n",
       "min       0.079070    0.000000    0.022392  \n",
       "25%       0.337842    0.520000    0.134950  \n",
       "50%       0.486733    0.626667    0.180975  \n",
       "75%       0.608602    0.730209    0.233214  \n",
       "max       0.840896    0.972500    0.507463  "
      ]
     },
     "execution_count": 30,
     "metadata": {},
     "output_type": "execute_result"
    }
   ],
   "source": [
    "df.describe(include='all')"
   ]
  },
  {
   "cell_type": "code",
   "execution_count": 23,
   "metadata": {},
   "outputs": [
    {
     "data": {
      "text/plain": [
       "instant                                                  267546\n",
       "dteday        01/01/1102/01/1103/01/1104/01/1105/01/1106/01/...\n",
       "season                                                     1825\n",
       "weathersit                                                 1020\n",
       "temp                                                  362.12628\n",
       "atemp                                                346.752766\n",
       "hum                                                   458.99056\n",
       "windspeed                                            139.245421\n",
       "dtype: object"
      ]
     },
     "execution_count": 23,
     "metadata": {},
     "output_type": "execute_result"
    }
   ],
   "source": [
    "df.sum()"
   ]
  },
  {
   "cell_type": "code",
   "execution_count": null,
   "metadata": {},
   "outputs": [],
   "source": []
  }
 ],
 "metadata": {
  "kernelspec": {
   "display_name": "Python 3",
   "language": "python",
   "name": "python3"
  },
  "language_info": {
   "codemirror_mode": {
    "name": "ipython",
    "version": 3
   },
   "file_extension": ".py",
   "mimetype": "text/x-python",
   "name": "python",
   "nbconvert_exporter": "python",
   "pygments_lexer": "ipython3",
   "version": "3.8.9"
  },
  "varInspector": {
   "cols": {
    "lenName": 16,
    "lenType": 16,
    "lenVar": 40
   },
   "kernels_config": {
    "python": {
     "delete_cmd_postfix": "",
     "delete_cmd_prefix": "del ",
     "library": "var_list.py",
     "varRefreshCmd": "print(var_dic_list())"
    },
    "r": {
     "delete_cmd_postfix": ") ",
     "delete_cmd_prefix": "rm(",
     "library": "var_list.r",
     "varRefreshCmd": "cat(var_dic_list()) "
    }
   },
   "types_to_exclude": [
    "module",
    "function",
    "builtin_function_or_method",
    "instance",
    "_Feature"
   ],
   "window_display": false
  }
 },
 "nbformat": 4,
 "nbformat_minor": 2
}
