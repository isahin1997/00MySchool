{
 "cells": [
  {
   "cell_type": "markdown",
   "metadata": {},
   "source": [
    "# Assignment 2.2 Convolutional network"
   ]
  },
  {
   "cell_type": "code",
   "execution_count": 1,
   "metadata": {},
   "outputs": [],
   "source": [
    "import os\n",
    "import numpy as np\n",
    "import skimage\n",
    "from skimage import io, transform, color, filters, data, morphology, measure\n",
    "import pandas as pd\n",
    "import matplotlib\n",
    "import matplotlib.pyplot as plt\n",
    "\n",
    "def load_images_from_folder(folder):\n",
    "    images = []\n",
    "    images_name = []\n",
    "    for filename in os.listdir(folder):\n",
    "        img = io.imread(os.path.join(folder,filename))\n",
    "        if img is not None:\n",
    "            images.append(img)\n",
    "            images_name.append(filename[0:4])\n",
    "    \n",
    "    images_df = pd.DataFrame({\"name\": images_name,\n",
    "                             \"image\": images})\n",
    "    return images_df\n",
    "\n",
    "def display(np_image):\n",
    "    \"\"\"\n",
    "    This is a display function that we have added to show numpy images at full size\n",
    "    If you pass in an image with 3 channels, it will be displayed in RGB\n",
    "    If you passn in an image with 1 channel, it will be displayed in grayscale\n",
    "    \"\"\"\n",
    "    dpi = matplotlib.rcParams['figure.dpi']\n",
    "    if len(np_image.shape) == 3:\n",
    "        height, width, depth = np_image.shape\n",
    "    else:\n",
    "        height, width = np_image.shape\n",
    "\n",
    "    # What size does the figure need to be in inches to fit the image?\n",
    "    figsize = width / float(dpi), height / float(dpi)\n",
    "\n",
    "    # Create a figure of the right size with one axes that takes up the full figure\n",
    "    fig = plt.figure(figsize=figsize)\n",
    "    ax = fig.add_axes([0, 0, 1, 1])\n",
    "\n",
    "    # Hide spines, ticks, etc.\n",
    "    ax.axis('off')\n",
    "    \n",
    "    # Display the image in either RGB or grayscale (depending on the amount of dimensions)\n",
    "    if (len(np_image.shape) >= 3):\n",
    "        ax.imshow(np_image)\n",
    "    else:\n",
    "        ax.imshow(np_image, cmap='gray')\n",
    "\n",
    "    plt.show()"
   ]
  },
  {
   "cell_type": "markdown",
   "metadata": {},
   "source": [
    "De hierboven gedefineerde functies zijn geleverd door Saxion zelf. Die zullen gebruikt worden voor het inladen van de data en het tonen van de afbeeldingen.\n",
    "\n",
    "Hieronden wordt de data ingeladen. Voor de zekerheid zullen we de data ook printen."
   ]
  },
  {
   "cell_type": "code",
   "execution_count": 2,
   "metadata": {},
   "outputs": [
    {
     "data": {
      "text/html": [
       "<div>\n",
       "<style scoped>\n",
       "    .dataframe tbody tr th:only-of-type {\n",
       "        vertical-align: middle;\n",
       "    }\n",
       "\n",
       "    .dataframe tbody tr th {\n",
       "        vertical-align: top;\n",
       "    }\n",
       "\n",
       "    .dataframe thead th {\n",
       "        text-align: right;\n",
       "    }\n",
       "</style>\n",
       "<table border=\"1\" class=\"dataframe\">\n",
       "  <thead>\n",
       "    <tr style=\"text-align: right;\">\n",
       "      <th></th>\n",
       "      <th>name</th>\n",
       "      <th>image</th>\n",
       "    </tr>\n",
       "  </thead>\n",
       "  <tbody>\n",
       "    <tr>\n",
       "      <th>0</th>\n",
       "      <td>1000</td>\n",
       "      <td>[[[241, 241, 241], [242, 242, 242], [244, 244,...</td>\n",
       "    </tr>\n",
       "    <tr>\n",
       "      <th>1</th>\n",
       "      <td>1027</td>\n",
       "      <td>[[[206, 206, 206], [211, 211, 211], [218, 218,...</td>\n",
       "    </tr>\n",
       "    <tr>\n",
       "      <th>2</th>\n",
       "      <td>1029</td>\n",
       "      <td>[[[82, 82, 82], [83, 83, 83], [84, 84, 84], [8...</td>\n",
       "    </tr>\n",
       "    <tr>\n",
       "      <th>3</th>\n",
       "      <td>1036</td>\n",
       "      <td>[[[241, 241, 241], [246, 246, 246], [243, 243,...</td>\n",
       "    </tr>\n",
       "    <tr>\n",
       "      <th>4</th>\n",
       "      <td>1053</td>\n",
       "      <td>[[[241, 241, 241], [243, 243, 243], [243, 243,...</td>\n",
       "    </tr>\n",
       "    <tr>\n",
       "      <th>...</th>\n",
       "      <td>...</td>\n",
       "      <td>...</td>\n",
       "    </tr>\n",
       "    <tr>\n",
       "      <th>475</th>\n",
       "      <td>9867</td>\n",
       "      <td>[[[231, 231, 231], [227, 227, 227], [225, 225,...</td>\n",
       "    </tr>\n",
       "    <tr>\n",
       "      <th>476</th>\n",
       "      <td>9909</td>\n",
       "      <td>[[[77, 77, 77], [74, 74, 74], [78, 78, 78], [7...</td>\n",
       "    </tr>\n",
       "    <tr>\n",
       "      <th>477</th>\n",
       "      <td>9923</td>\n",
       "      <td>[[[116, 116, 116], [114, 114, 114], [113, 113,...</td>\n",
       "    </tr>\n",
       "    <tr>\n",
       "      <th>478</th>\n",
       "      <td>9954</td>\n",
       "      <td>[[[105, 105, 105], [102, 102, 102], [110, 110,...</td>\n",
       "    </tr>\n",
       "    <tr>\n",
       "      <th>479</th>\n",
       "      <td>9990</td>\n",
       "      <td>[[[241, 241, 241], [224, 224, 224], [236, 236,...</td>\n",
       "    </tr>\n",
       "  </tbody>\n",
       "</table>\n",
       "<p>480 rows × 2 columns</p>\n",
       "</div>"
      ],
      "text/plain": [
       "     name                                              image\n",
       "0    1000  [[[241, 241, 241], [242, 242, 242], [244, 244,...\n",
       "1    1027  [[[206, 206, 206], [211, 211, 211], [218, 218,...\n",
       "2    1029  [[[82, 82, 82], [83, 83, 83], [84, 84, 84], [8...\n",
       "3    1036  [[[241, 241, 241], [246, 246, 246], [243, 243,...\n",
       "4    1053  [[[241, 241, 241], [243, 243, 243], [243, 243,...\n",
       "..    ...                                                ...\n",
       "475  9867  [[[231, 231, 231], [227, 227, 227], [225, 225,...\n",
       "476  9909  [[[77, 77, 77], [74, 74, 74], [78, 78, 78], [7...\n",
       "477  9923  [[[116, 116, 116], [114, 114, 114], [113, 113,...\n",
       "478  9954  [[[105, 105, 105], [102, 102, 102], [110, 110,...\n",
       "479  9990  [[[241, 241, 241], [224, 224, 224], [236, 236,...\n",
       "\n",
       "[480 rows x 2 columns]"
      ]
     },
     "execution_count": 2,
     "metadata": {},
     "output_type": "execute_result"
    }
   ],
   "source": [
    "all_images_df = load_images_from_folder('./dataset-images')\n",
    "all_images_df"
   ]
  },
  {
   "cell_type": "markdown",
   "metadata": {},
   "source": [
    "Zoals hierboven is te zien is de data succesvol geladen. Laten we voor de zekerheid kijken of er toch geen gebreken zijn. Hiervoor zullen we de \"describe()\" functie gebruiken."
   ]
  },
  {
   "cell_type": "code",
   "execution_count": 3,
   "metadata": {},
   "outputs": [
    {
     "data": {
      "text/html": [
       "<div>\n",
       "<style scoped>\n",
       "    .dataframe tbody tr th:only-of-type {\n",
       "        vertical-align: middle;\n",
       "    }\n",
       "\n",
       "    .dataframe tbody tr th {\n",
       "        vertical-align: top;\n",
       "    }\n",
       "\n",
       "    .dataframe thead th {\n",
       "        text-align: right;\n",
       "    }\n",
       "</style>\n",
       "<table border=\"1\" class=\"dataframe\">\n",
       "  <thead>\n",
       "    <tr style=\"text-align: right;\">\n",
       "      <th></th>\n",
       "      <th>name</th>\n",
       "      <th>image</th>\n",
       "    </tr>\n",
       "  </thead>\n",
       "  <tbody>\n",
       "    <tr>\n",
       "      <th>count</th>\n",
       "      <td>480</td>\n",
       "      <td>480</td>\n",
       "    </tr>\n",
       "    <tr>\n",
       "      <th>unique</th>\n",
       "      <td>480</td>\n",
       "      <td>480</td>\n",
       "    </tr>\n",
       "    <tr>\n",
       "      <th>top</th>\n",
       "      <td>8343</td>\n",
       "      <td>[[[148, 148, 148], [158, 158, 158], [148, 148,...</td>\n",
       "    </tr>\n",
       "    <tr>\n",
       "      <th>freq</th>\n",
       "      <td>1</td>\n",
       "      <td>1</td>\n",
       "    </tr>\n",
       "  </tbody>\n",
       "</table>\n",
       "</div>"
      ],
      "text/plain": [
       "        name                                              image\n",
       "count    480                                                480\n",
       "unique   480                                                480\n",
       "top     8343  [[[148, 148, 148], [158, 158, 158], [148, 148,...\n",
       "freq       1                                                  1"
      ]
     },
     "execution_count": 3,
     "metadata": {},
     "output_type": "execute_result"
    }
   ],
   "source": [
    "all_images_df.describe()"
   ]
  },
  {
   "cell_type": "markdown",
   "metadata": {},
   "source": [
    "Voor nu lijkt de data in orde dus kunnen we verder gaan.\n",
    "\n",
    "De data is nu verzameld.\n",
    "\n",
    "Om de data te kunnen gebruiken voor het neurale netwerk zullen we het eerst moeten preprocessen en de features eruit halen.\n",
    "\n",
    "Hieronder zullen we een begin maken met het schrijven van de eerste versie van de preproces pipeline. Hiervoor zullen we de volgende stappen uitvoeren:\n",
    "\n",
    "1. De kleuren van de afbeelding omdraaien, zodat de cijfers wit zijn en de achtergrond zwart.\n",
    "2. De afbeelding omzetten naar een binair formaat (zwart/wit).\n",
    "3. Afbeelding knippen naar 1 cijfer per afbeelding.\n",
    "4. Dataset opzetten zodat we het neurale netwerk trainen per cijfer in plaats van op een hele reeks"
   ]
  },
  {
   "cell_type": "markdown",
   "metadata": {},
   "source": [
    "## De kleuren van de afbeelding omdraaien, zodat de cijfers wit zijn en de achtergrond zwart."
   ]
  },
  {
   "cell_type": "code",
   "execution_count": 4,
   "metadata": {},
   "outputs": [],
   "source": [
    "image = all_images_df.iloc[0,1]\n",
    "image_name = all_images_df.iloc[0,0]\n",
    "\n",
    "image = image*-1"
   ]
  },
  {
   "cell_type": "markdown",
   "metadata": {},
   "source": [
    "## De afbeelding omzetten naar een binair formaat (zwart/wit)."
   ]
  },
  {
   "cell_type": "code",
   "execution_count": 5,
   "metadata": {},
   "outputs": [
    {
     "data": {
      "image/png": "[encoded data removed]",
      "text/plain": [
       "<Figure size 128x32 with 1 Axes>"
      ]
     },
     "metadata": {
      "needs_background": "light"
     },
     "output_type": "display_data"
    }
   ],
   "source": [
    "gray = color.rgb2gray(image)\n",
    "thresh = filters.threshold_otsu(gray)\n",
    "binary = gray > thresh\n",
    "display(binary)"
   ]
  },
  {
   "cell_type": "code",
   "execution_count": 6,
   "metadata": {},
   "outputs": [
    {
     "data": {
      "text/html": [
       "<div>\n",
       "<style scoped>\n",
       "    .dataframe tbody tr th:only-of-type {\n",
       "        vertical-align: middle;\n",
       "    }\n",
       "\n",
       "    .dataframe tbody tr th {\n",
       "        vertical-align: top;\n",
       "    }\n",
       "\n",
       "    .dataframe thead th {\n",
       "        text-align: right;\n",
       "    }\n",
       "</style>\n",
       "<table border=\"1\" class=\"dataframe\">\n",
       "  <thead>\n",
       "    <tr style=\"text-align: right;\">\n",
       "      <th></th>\n",
       "      <th>feature</th>\n",
       "      <th>number</th>\n",
       "    </tr>\n",
       "  </thead>\n",
       "  <tbody>\n",
       "    <tr>\n",
       "      <th>0</th>\n",
       "      <td>[[False, False, False, False, False, False, Fa...</td>\n",
       "      <td>1</td>\n",
       "    </tr>\n",
       "    <tr>\n",
       "      <th>1</th>\n",
       "      <td>[[False, False, False, False, False, False, Fa...</td>\n",
       "      <td>0</td>\n",
       "    </tr>\n",
       "    <tr>\n",
       "      <th>2</th>\n",
       "      <td>[[False, False, False, False, False, False, Fa...</td>\n",
       "      <td>0</td>\n",
       "    </tr>\n",
       "    <tr>\n",
       "      <th>3</th>\n",
       "      <td>[[False, False, False, False, False, False, Fa...</td>\n",
       "      <td>0</td>\n",
       "    </tr>\n",
       "    <tr>\n",
       "      <th>4</th>\n",
       "      <td>[[False, False, False, False, False, False, Fa...</td>\n",
       "      <td>1</td>\n",
       "    </tr>\n",
       "    <tr>\n",
       "      <th>...</th>\n",
       "      <td>...</td>\n",
       "      <td>...</td>\n",
       "    </tr>\n",
       "    <tr>\n",
       "      <th>1915</th>\n",
       "      <td>[[False, False, False, False, False, False, Fa...</td>\n",
       "      <td>4</td>\n",
       "    </tr>\n",
       "    <tr>\n",
       "      <th>1916</th>\n",
       "      <td>[[False, True, False, False, False, True, Fals...</td>\n",
       "      <td>9</td>\n",
       "    </tr>\n",
       "    <tr>\n",
       "      <th>1917</th>\n",
       "      <td>[[False, False, False, False, False, False, Fa...</td>\n",
       "      <td>9</td>\n",
       "    </tr>\n",
       "    <tr>\n",
       "      <th>1918</th>\n",
       "      <td>[[False, False, False, False, True, False, Fal...</td>\n",
       "      <td>9</td>\n",
       "    </tr>\n",
       "    <tr>\n",
       "      <th>1919</th>\n",
       "      <td>[[False, False, False, False, False, False, Fa...</td>\n",
       "      <td>0</td>\n",
       "    </tr>\n",
       "  </tbody>\n",
       "</table>\n",
       "<p>1920 rows × 2 columns</p>\n",
       "</div>"
      ],
      "text/plain": [
       "                                                feature number\n",
       "0     [[False, False, False, False, False, False, Fa...      1\n",
       "1     [[False, False, False, False, False, False, Fa...      0\n",
       "2     [[False, False, False, False, False, False, Fa...      0\n",
       "3     [[False, False, False, False, False, False, Fa...      0\n",
       "4     [[False, False, False, False, False, False, Fa...      1\n",
       "...                                                 ...    ...\n",
       "1915  [[False, False, False, False, False, False, Fa...      4\n",
       "1916  [[False, True, False, False, False, True, Fals...      9\n",
       "1917  [[False, False, False, False, False, False, Fa...      9\n",
       "1918  [[False, False, False, False, True, False, Fal...      9\n",
       "1919  [[False, False, False, False, False, False, Fa...      0\n",
       "\n",
       "[1920 rows x 2 columns]"
      ]
     },
     "execution_count": 6,
     "metadata": {},
     "output_type": "execute_result"
    }
   ],
   "source": [
    "def initialize_image(image, image_name):\n",
    "    zipcode = image\n",
    "    zipcode = zipcode *-1\n",
    "    gray = color.rgb2gray(zipcode)\n",
    "    thresh = filters.threshold_otsu(gray)\n",
    "    binary = gray > thresh\n",
    "    binary_splitted = [binary[:, :32], binary[:, 32:64], binary[:, 64:96], binary[:, 96:128]]\n",
    "    \n",
    "    df = pd.DataFrame(columns=['feature', 'number'])\n",
    "    \n",
    "    for x in range(0, 4):\n",
    "        df.loc[x, 'number'] = image_name[x]\n",
    "        df.loc[x, 'feature'] = binary_splitted[x]\n",
    "    \n",
    "    return df\n",
    "    \n",
    "result = pd.DataFrame()\n",
    "\n",
    "for i in range(0, len(all_images_df.index)):\n",
    "    image_name = all_images_df.iloc[i,0]\n",
    "    image = all_images_df.iloc[i,1]\n",
    "    tmp_result = initialize_image(image, image_name)\n",
    "    result = pd.concat([result, tmp_result])\n",
    "    \n",
    "result.reset_index(inplace=True)\n",
    "result.drop(columns=['index'], inplace=True)\n",
    "result"
   ]
  },
  {
   "cell_type": "markdown",
   "metadata": {},
   "source": [
    "Nu we de afbeeldingen hebben omgezet, kunnen we de dataset splitsen in train en test data. De test data willen we vederop gebruiken om het netwerk te testen."
   ]
  },
  {
   "cell_type": "code",
   "execution_count": 7,
   "metadata": {},
   "outputs": [],
   "source": [
    "from sklearn.model_selection import train_test_split\n",
    "\n",
    "X_train, X_test, y_train, y_test = train_test_split(\n",
    "        result['feature'], result['number'], test_size=0.1, random_state=28)\n"
   ]
  },
  {
   "cell_type": "code",
   "execution_count": 8,
   "metadata": {},
   "outputs": [
    {
     "data": {
      "text/plain": [
       "1728"
      ]
     },
     "execution_count": 8,
     "metadata": {},
     "output_type": "execute_result"
    }
   ],
   "source": [
    "len(X_train)"
   ]
  },
  {
   "cell_type": "code",
   "execution_count": 9,
   "metadata": {
    "scrolled": true
   },
   "outputs": [
    {
     "data": {
      "text/plain": [
       "192"
      ]
     },
     "execution_count": 9,
     "metadata": {},
     "output_type": "execute_result"
    }
   ],
   "source": [
    "len(X_test)"
   ]
  },
  {
   "cell_type": "markdown",
   "metadata": {},
   "source": [
    "De targets zullen we categoriseren naar numerieke waardes die gebruikt kunnen worden voor het netwerk. Dit doen we door middel van OneHOtEncoding. "
   ]
  },
  {
   "cell_type": "code",
   "execution_count": 11,
   "metadata": {},
   "outputs": [
    {
     "data": {
      "text/plain": [
       "array([0., 0., 0., 0., 0., 0., 1., 0., 0., 0.], dtype=float32)"
      ]
     },
     "execution_count": 11,
     "metadata": {},
     "output_type": "execute_result"
    }
   ],
   "source": [
    "from keras.utils import to_categorical\n",
    "#one-hot encode target column\n",
    "y_train_encoded = to_categorical(y_train)\n",
    "y_test_encoded = to_categorical(y_test)\n",
    "y_train_encoded[0]"
   ]
  },
  {
   "cell_type": "code",
   "execution_count": 12,
   "metadata": {},
   "outputs": [],
   "source": [
    "#This is needed to avoid an array in array situation.\n",
    "tt = np.vstack(X_train)\n",
    "X_train = tt.reshape(len(X_train),32,32)\n",
    "rr = np.vstack(X_test)\n",
    "X_test = rr.reshape(len(X_test),32,32)"
   ]
  },
  {
   "cell_type": "markdown",
   "metadata": {},
   "source": [
    "De data is nu klaar. we moeten we alleen de structuur van de data veranderen zodat het voldoet aan de verwachte input van het neurale netwerk."
   ]
  },
  {
   "cell_type": "code",
   "execution_count": 13,
   "metadata": {},
   "outputs": [
    {
     "data": {
      "text/plain": [
       "(1728, 32, 32, 1)"
      ]
     },
     "execution_count": 13,
     "metadata": {},
     "output_type": "execute_result"
    }
   ],
   "source": [
    "#reshape data to fit model\n",
    "X_train = X_train.reshape(len(X_train),32,32,1)\n",
    "X_test = X_test.reshape(len(X_test),32,32,1)\n",
    "X_train.shape"
   ]
  },
  {
   "cell_type": "code",
   "execution_count": 14,
   "metadata": {},
   "outputs": [
    {
     "data": {
      "text/plain": [
       "(192, 32, 32, 1)"
      ]
     },
     "execution_count": 14,
     "metadata": {},
     "output_type": "execute_result"
    }
   ],
   "source": [
    "X_test.shape"
   ]
  },
  {
   "cell_type": "code",
   "execution_count": 15,
   "metadata": {},
   "outputs": [
    {
     "data": {
      "text/plain": [
       "array([0., 0., 0., 0., 0., 0., 1., 0., 0., 0.], dtype=float32)"
      ]
     },
     "execution_count": 15,
     "metadata": {},
     "output_type": "execute_result"
    }
   ],
   "source": [
    "y_train_encoded[0]"
   ]
  },
  {
   "cell_type": "code",
   "execution_count": 17,
   "metadata": {},
   "outputs": [
    {
     "data": {
      "text/plain": [
       "(1728,)"
      ]
     },
     "execution_count": 17,
     "metadata": {},
     "output_type": "execute_result"
    }
   ],
   "source": [
    "y_train.shape"
   ]
  },
  {
   "cell_type": "markdown",
   "metadata": {},
   "source": [
    "Nu kunnen we het neurale netwerk bouwen. Daarin geven we de structuur van de input aan, wat in ons geval (32,32,1) is. Daarnaast zal de output layer bestaan uit 10 nodes, omdat het getal tussen de reeks van [0-9] zit.\n",
    "\n",
    "Voor de output layer zal er gebruik gemaakt worden van Softmax. Softmax wordt namelijk gebruikt voor classificatie problemen"
   ]
  },
  {
   "cell_type": "code",
   "execution_count": 18,
   "metadata": {},
   "outputs": [],
   "source": [
    "from keras.models import Sequential\n",
    "from keras.layers import Dense, Conv2D, Flatten\n",
    "#create model\n",
    "model = None\n",
    "model = Sequential()\n",
    "#add model layers\n",
    "model.add(Conv2D(64, kernel_size=3, activation='relu', input_shape=(32,32,1)))\n",
    "model.add(Conv2D(32, kernel_size=3, activation='relu'))\n",
    "model.add(Flatten())\n",
    "model.add(Dense(10, activation='softmax'))"
   ]
  },
  {
   "cell_type": "code",
   "execution_count": 19,
   "metadata": {},
   "outputs": [],
   "source": [
    "#compile model using accuracy to measure model performance\n",
    "model.compile(optimizer='adam', loss='categorical_crossentropy', metrics=['accuracy'])"
   ]
  },
  {
   "cell_type": "markdown",
   "metadata": {},
   "source": [
    "Nu het neurale netwerk is opgezet kunnen we beginnen met de eerste training"
   ]
  },
  {
   "cell_type": "code",
   "execution_count": 20,
   "metadata": {},
   "outputs": [
    {
     "name": "stdout",
     "output_type": "stream",
     "text": [
      "Epoch 1/3\n",
      "49/49 [==============================] - 5s 91ms/step - loss: 1.1424 - accuracy: 0.6472 - val_loss: 0.2983 - val_accuracy: 0.9133\n",
      "Epoch 2/3\n",
      "49/49 [==============================] - 4s 78ms/step - loss: 0.1300 - accuracy: 0.9576 - val_loss: 0.3463 - val_accuracy: 0.9249\n",
      "Epoch 3/3\n",
      "49/49 [==============================] - 4s 80ms/step - loss: 0.0466 - accuracy: 0.9865 - val_loss: 0.2707 - val_accuracy: 0.9422\n"
     ]
    }
   ],
   "source": [
    "#train the model\n",
    "history = model.fit(X_train, y_train_encoded, validation_split=0.1, epochs=3)"
   ]
  },
  {
   "cell_type": "code",
   "execution_count": 21,
   "metadata": {},
   "outputs": [
    {
     "data": {
      "image/png": "[encoded data removed]",
      "text/plain": [
       "<Figure size 864x288 with 2 Axes>"
      ]
     },
     "metadata": {
      "needs_background": "light"
     },
     "output_type": "display_data"
    }
   ],
   "source": [
    "from matplotlib import pyplot\n",
    "fig, (ax1, ax2) = pyplot.subplots(1, 2, figsize=(12,4))\n",
    "ax1.plot(history.history['loss'], label='train loss')\n",
    "ax2.plot(history.history['accuracy'], label='train accuracy')\n",
    "ax2.plot(history.history['val_accuracy'], label='validation accuracy')\n",
    "pyplot.legend()\n",
    "pyplot.show()"
   ]
  },
  {
   "cell_type": "markdown",
   "metadata": {},
   "source": [
    "Kijkend naar de eerste resultaten lijkt het neurale netwerk aardig goed te presteren. De loss zit ook zeer laag. Met een kleine aantal epochs zit de accuraatheid hoog. De validatie accuraatheid zit ook in de buurt van de train accuraatheid. Dus het lijkt niet veel last te hebben van overfitting.\n",
    "\n",
    "Het idee is om nu 5 andere neurale netwerken te creeeren om te experimenteren hoe de overige modellen presteren.\n",
    "\n",
    "## Netwerk 2"
   ]
  },
  {
   "cell_type": "code",
   "execution_count": 23,
   "metadata": {},
   "outputs": [
    {
     "name": "stdout",
     "output_type": "stream",
     "text": [
      "Epoch 1/3\n",
      "49/49 [==============================] - 5s 91ms/step - loss: 1.3274 - accuracy: 0.5556 - val_loss: 0.3628 - val_accuracy: 0.9017\n",
      "Epoch 2/3\n",
      "49/49 [==============================] - 4s 81ms/step - loss: 0.1365 - accuracy: 0.9510 - val_loss: 0.2821 - val_accuracy: 0.9249\n",
      "Epoch 3/3\n",
      "49/49 [==============================] - 4s 82ms/step - loss: 0.0864 - accuracy: 0.9726 - val_loss: 0.2598 - val_accuracy: 0.9249\n"
     ]
    }
   ],
   "source": [
    "#create model\n",
    "model = None\n",
    "model = Sequential()\n",
    "#add model layers\n",
    "model.add(Conv2D(64, kernel_size=3, activation='relu', input_shape=(32,32,1)))\n",
    "model.add(Conv2D(32, kernel_size=3, activation='relu'))\n",
    "model.add(Dense(10, activation='relu'))\n",
    "model.add(Flatten())\n",
    "model.add(Dense(10, activation='softmax'))\n",
    "\n",
    "#compile model using accuracy to measure model performance\n",
    "model.compile(optimizer='adam', loss='categorical_crossentropy', metrics=['accuracy'])\n",
    "\n",
    "#train the model\n",
    "history = model.fit(X_train, y_train_encoded, validation_split=0.1, epochs=3)"
   ]
  },
  {
   "cell_type": "code",
   "execution_count": 24,
   "metadata": {},
   "outputs": [
    {
     "data": {
      "image/png": "[encoded data removed]",
      "text/plain": [
       "<Figure size 864x288 with 2 Axes>"
      ]
     },
     "metadata": {
      "needs_background": "light"
     },
     "output_type": "display_data"
    }
   ],
   "source": [
    "fig, (ax1, ax2) = pyplot.subplots(1, 2, figsize=(12,4))\n",
    "ax1.plot(history.history['loss'], label='train loss')\n",
    "ax2.plot(history.history['accuracy'], label='train accuracy')\n",
    "ax2.plot(history.history['val_accuracy'], label='validation accuracy')\n",
    "pyplot.legend()\n",
    "pyplot.show()"
   ]
  },
  {
   "cell_type": "markdown",
   "metadata": {},
   "source": [
    "de resultaten van netwerk 2 is eigenlijk vergelijkbaar met netwerk 1. De validatie accuraatheid heeft alleen geen dalende lijn. Het toevoegen van een extra layer lijkt toch niet veel verschil te maken.\n",
    "\n",
    "## Netwerk 3"
   ]
  },
  {
   "cell_type": "code",
   "execution_count": 25,
   "metadata": {},
   "outputs": [
    {
     "name": "stdout",
     "output_type": "stream",
     "text": [
      "Epoch 1/3\n",
      "49/49 [==============================] - 11s 212ms/step - loss: 1.0976 - accuracy: 0.6813 - val_loss: 0.4265 - val_accuracy: 0.9075\n",
      "Epoch 2/3\n",
      "49/49 [==============================] - 10s 201ms/step - loss: 0.1707 - accuracy: 0.9428 - val_loss: 0.2426 - val_accuracy: 0.9422\n",
      "Epoch 3/3\n",
      "49/49 [==============================] - 10s 211ms/step - loss: 0.0399 - accuracy: 0.9884 - val_loss: 0.2785 - val_accuracy: 0.9422\n"
     ]
    }
   ],
   "source": [
    "#create model\n",
    "model = None\n",
    "model = Sequential()\n",
    "#add model layers\n",
    "model.add(Conv2D(128, kernel_size=3, activation='relu', input_shape=(32,32,1)))\n",
    "model.add(Conv2D(64, kernel_size=3, activation='relu'))\n",
    "model.add(Conv2D(32, kernel_size=3, activation='relu'))\n",
    "model.add(Flatten())\n",
    "model.add(Dense(10, activation='softmax'))\n",
    "\n",
    "#compile model using accuracy to measure model performance\n",
    "model.compile(optimizer='adam', loss='categorical_crossentropy', metrics=['accuracy'])\n",
    "\n",
    "#train the model\n",
    "history = model.fit(X_train, y_train_encoded, validation_split=0.1, epochs=3)"
   ]
  },
  {
   "cell_type": "code",
   "execution_count": 26,
   "metadata": {},
   "outputs": [
    {
     "data": {
      "image/png": "[encoded data removed]",
      "text/plain": [
       "<Figure size 864x288 with 2 Axes>"
      ]
     },
     "metadata": {
      "needs_background": "light"
     },
     "output_type": "display_data"
    }
   ],
   "source": [
    "fig, (ax1, ax2) = pyplot.subplots(1, 2, figsize=(12,4))\n",
    "ax1.plot(history.history['loss'], label='train loss')\n",
    "ax2.plot(history.history['accuracy'], label='train accuracy')\n",
    "ax2.plot(history.history['val_accuracy'], label='validation accuracy')\n",
    "pyplot.legend()\n",
    "pyplot.show()"
   ]
  },
  {
   "cell_type": "markdown",
   "metadata": {},
   "source": [
    "Ook het toevoegen van een extra convolutional layer lijkt geen drastische verschillen te maken in het trainen. Al merk ik wel op dat het trainen natuurlijk langer duurt. Dit is ook terug te zien in de step duratie die wordt aangegeven.\n",
    "\n",
    "## Netwerk 4"
   ]
  },
  {
   "cell_type": "code",
   "execution_count": 34,
   "metadata": {},
   "outputs": [
    {
     "name": "stdout",
     "output_type": "stream",
     "text": [
      "Epoch 1/3\n",
      "49/49 [==============================] - 5s 89ms/step - loss: 1.2430 - accuracy: 0.5845 - val_loss: 0.3121 - val_accuracy: 0.9017\n",
      "Epoch 2/3\n",
      "49/49 [==============================] - 4s 80ms/step - loss: 0.1252 - accuracy: 0.9621 - val_loss: 0.2801 - val_accuracy: 0.9422\n",
      "Epoch 3/3\n",
      "49/49 [==============================] - 4s 80ms/step - loss: 0.0339 - accuracy: 0.9918 - val_loss: 0.2152 - val_accuracy: 0.9480\n"
     ]
    }
   ],
   "source": [
    "import tensorflow as tf\n",
    "from tensorflow import keras\n",
    "from tensorflow.keras import layers\n",
    "from tensorflow.keras.layers.experimental import preprocessing\n",
    "\n",
    "inputs = keras.Input(shape=(32,32,1))\n",
    "\n",
    "#add preprocess layers\n",
    "preprocessed = preprocessing.CenterCrop(height=32, width=32)(inputs)\n",
    "\n",
    "#add model layers\n",
    "firstLayer = Conv2D(64, kernel_size=3, activation='relu', input_shape=(32,32,1))(preprocessed)\n",
    "secondLayer = Conv2D(32, kernel_size=3, activation='relu')(firstLayer)\n",
    "flattenLayer = Flatten()(secondLayer)\n",
    "outputs = layers.Dense(10, activation=\"softmax\")(flattenLayer)\n",
    "\n",
    "#create model\n",
    "model = None\n",
    "model = keras.Model(inputs, outputs)\n",
    "\n",
    "#compile model using accuracy to measure model performance\n",
    "model.compile(optimizer='adam', loss='categorical_crossentropy', metrics=['accuracy'])\n",
    "\n",
    "#train the model\n",
    "history = model.fit(X_train, y_train_encoded, validation_split=0.1, epochs=3)"
   ]
  },
  {
   "cell_type": "code",
   "execution_count": 35,
   "metadata": {
    "scrolled": true
   },
   "outputs": [
    {
     "data": {
      "image/png": "[encoded data removed]",
      "text/plain": [
       "<Figure size 864x288 with 2 Axes>"
      ]
     },
     "metadata": {
      "needs_background": "light"
     },
     "output_type": "display_data"
    }
   ],
   "source": [
    "fig, (ax1, ax2) = pyplot.subplots(1, 2, figsize=(12,4))\n",
    "ax1.plot(history.history['loss'], label='train loss')\n",
    "ax2.plot(history.history['accuracy'], label='train accuracy')\n",
    "ax2.plot(history.history['val_accuracy'], label='validation accuracy')\n",
    "pyplot.legend()\n",
    "pyplot.show()"
   ]
  },
  {
   "cell_type": "markdown",
   "metadata": {},
   "source": [
    "Het toevoegen van een preprocessor laag lijkt de accuraatheid verhoogd te hebben. Dit is ook nog gelukt zonder tijdverlies in training. \n",
    "\n",
    "## Netwerk 5"
   ]
  },
  {
   "cell_type": "code",
   "execution_count": 40,
   "metadata": {},
   "outputs": [
    {
     "name": "stdout",
     "output_type": "stream",
     "text": [
      "Epoch 1/3\n",
      "49/49 [==============================] - 6s 98ms/step - loss: 1.7544 - accuracy: 0.4480 - val_loss: 0.5845 - val_accuracy: 0.8497\n",
      "Epoch 2/3\n",
      "49/49 [==============================] - 4s 87ms/step - loss: 0.2251 - accuracy: 0.9292 - val_loss: 0.3605 - val_accuracy: 0.9075\n",
      "Epoch 3/3\n",
      "49/49 [==============================] - 4s 88ms/step - loss: 0.1561 - accuracy: 0.9514 - val_loss: 0.3337 - val_accuracy: 0.9191\n"
     ]
    }
   ],
   "source": [
    "inputs = keras.Input(shape=(32,32,1))\n",
    "\n",
    "#add preprocess layers\n",
    "preprocessed = preprocessing.CenterCrop(height=32, width=32)(inputs)\n",
    "\n",
    "#add model layers\n",
    "\n",
    "firstLayer = Conv2D(64, kernel_size=3, activation='relu', input_shape=(32,32,1))(preprocessed)\n",
    "secondLayer = Conv2D(32, kernel_size=3, activation='relu')(firstLayer)\n",
    "\n",
    "poolLayer = layers.MaxPooling2D(pool_size=(3, 3), strides=None, padding=\"valid\")(secondLayer)\n",
    "\n",
    "flattenLayer = Flatten()(poolLayer)\n",
    "outputs = layers.Dense(10, activation=\"softmax\")(flattenLayer)\n",
    "\n",
    "#create model\n",
    "model = None\n",
    "model = keras.Model(inputs, outputs)\n",
    "\n",
    "#compile model using accuracy to measure model performance\n",
    "model.compile(optimizer='adam', loss='categorical_crossentropy', metrics=['accuracy'])\n",
    "\n",
    "#train the model\n",
    "history = model.fit(X_train, y_train_encoded, validation_split=0.1, epochs=3)\n"
   ]
  },
  {
   "cell_type": "code",
   "execution_count": 41,
   "metadata": {},
   "outputs": [
    {
     "data": {
      "image/png": "[encoded data removed]",
      "text/plain": [
       "<Figure size 864x288 with 2 Axes>"
      ]
     },
     "metadata": {
      "needs_background": "light"
     },
     "output_type": "display_data"
    }
   ],
   "source": [
    "fig, (ax1, ax2) = pyplot.subplots(1, 2, figsize=(12,4))\n",
    "ax1.plot(history.history['loss'], label='train loss')\n",
    "ax2.plot(history.history['accuracy'], label='train accuracy')\n",
    "ax2.plot(history.history['val_accuracy'], label='validation accuracy')\n",
    "pyplot.legend()\n",
    "pyplot.show()"
   ]
  },
  {
   "cell_type": "markdown",
   "metadata": {},
   "source": [
    "## Netwerk 6"
   ]
  },
  {
   "cell_type": "code",
   "execution_count": 42,
   "metadata": {},
   "outputs": [
    {
     "name": "stdout",
     "output_type": "stream",
     "text": [
      "Epoch 1/3\n",
      "49/49 [==============================] - 6s 97ms/step - loss: 1.6316 - accuracy: 0.5036 - val_loss: 0.4999 - val_accuracy: 0.8671\n",
      "Epoch 2/3\n",
      "49/49 [==============================] - 4s 89ms/step - loss: 0.1961 - accuracy: 0.9383 - val_loss: 0.2761 - val_accuracy: 0.9306\n",
      "Epoch 3/3\n",
      "49/49 [==============================] - 4s 87ms/step - loss: 0.1362 - accuracy: 0.9581 - val_loss: 0.3321 - val_accuracy: 0.9306\n"
     ]
    }
   ],
   "source": [
    "inputs = keras.Input(shape=(32,32,1))\n",
    "\n",
    "#add preprocess layers\n",
    "preprocessed = preprocessing.CenterCrop(height=32, width=32)(inputs)\n",
    "\n",
    "#add model layers\n",
    "\n",
    "firstLayer = Conv2D(64, kernel_size=3, activation='relu', input_shape=(32,32,1))(preprocessed)\n",
    "secondLayer = Conv2D(32, kernel_size=3, activation='relu')(firstLayer)\n",
    "\n",
    "poolLayer = layers.AveragePooling2D(pool_size=(3, 3), strides=None, padding=\"valid\")(secondLayer)\n",
    "\n",
    "flattenLayer = Flatten()(poolLayer)\n",
    "outputs = layers.Dense(10, activation=\"softmax\")(flattenLayer)\n",
    "\n",
    "#create model\n",
    "model = None\n",
    "model = keras.Model(inputs, outputs)\n",
    "\n",
    "#compile model using accuracy to measure model performance\n",
    "model.compile(optimizer='adam', loss='categorical_crossentropy', metrics=['accuracy'])\n",
    "\n",
    "#train the model\n",
    "history = model.fit(X_train, y_train_encoded, validation_split=0.1, epochs=3)\n"
   ]
  },
  {
   "cell_type": "code",
   "execution_count": 43,
   "metadata": {
    "scrolled": true
   },
   "outputs": [
    {
     "data": {
      "image/png": "[encoded data removed]",
      "text/plain": [
       "<Figure size 864x288 with 2 Axes>"
      ]
     },
     "metadata": {
      "needs_background": "light"
     },
     "output_type": "display_data"
    }
   ],
   "source": [
    "fig, (ax1, ax2) = pyplot.subplots(1, 2, figsize=(12,4))\n",
    "ax1.plot(history.history['loss'], label='train loss')\n",
    "ax2.plot(history.history['accuracy'], label='train accuracy')\n",
    "ax2.plot(history.history['val_accuracy'], label='validation accuracy')\n",
    "pyplot.legend()\n",
    "pyplot.show()"
   ]
  },
  {
   "cell_type": "markdown",
   "metadata": {},
   "source": [
    "fhsdfsdiufhsdkjfhsdkfhdskfhskjdfkjsdfdsf\n",
    "\n",
    "## Valideren neuraal netwerk"
   ]
  },
  {
   "cell_type": "code",
   "execution_count": 44,
   "metadata": {},
   "outputs": [
    {
     "name": "stdout",
     "output_type": "stream",
     "text": [
      "Epoch 1/3\n",
      "49/49 [==============================] - 6s 95ms/step - loss: 1.1137 - accuracy: 0.6423 - val_loss: 0.3009 - val_accuracy: 0.9191\n",
      "Epoch 2/3\n",
      "49/49 [==============================] - 4s 86ms/step - loss: 0.1126 - accuracy: 0.9694 - val_loss: 0.2433 - val_accuracy: 0.9480\n",
      "Epoch 3/3\n",
      "49/49 [==============================] - 4s 87ms/step - loss: 0.0612 - accuracy: 0.9836 - val_loss: 0.2227 - val_accuracy: 0.9538\n"
     ]
    }
   ],
   "source": [
    "import tensorflow as tf\n",
    "from tensorflow import keras\n",
    "from tensorflow.keras import layers\n",
    "from tensorflow.keras.layers.experimental import preprocessing\n",
    "\n",
    "inputs = keras.Input(shape=(32,32,1))\n",
    "\n",
    "#add preprocess layers\n",
    "preprocessed = preprocessing.CenterCrop(height=32, width=32)(inputs)\n",
    "\n",
    "#add model layers\n",
    "firstLayer = Conv2D(64, kernel_size=3, activation='relu', input_shape=(32,32,1))(preprocessed)\n",
    "secondLayer = Conv2D(32, kernel_size=3, activation='relu')(firstLayer)\n",
    "flattenLayer = Flatten()(secondLayer)\n",
    "outputs = layers.Dense(10, activation=\"softmax\")(flattenLayer)\n",
    "\n",
    "#create model\n",
    "model = None\n",
    "model = keras.Model(inputs, outputs)\n",
    "\n",
    "#compile model using accuracy to measure model performance\n",
    "model.compile(optimizer='adam', loss='categorical_crossentropy', metrics=['accuracy'])\n",
    "\n",
    "#train the model\n",
    "history = model.fit(X_train, y_train_encoded, validation_split=0.1, epochs=3)"
   ]
  },
  {
   "cell_type": "markdown",
   "metadata": {},
   "source": [
    "### Test dataset\n",
    "\n",
    "Voor het valideren van het model gaan we eerst gebruik maken van de apart gehouden test dataset. Hiermee willen we controleren of het model last heeft van overfitting"
   ]
  },
  {
   "cell_type": "code",
   "execution_count": 53,
   "metadata": {
    "scrolled": true
   },
   "outputs": [
    {
     "name": "stdout",
     "output_type": "stream",
     "text": [
      "6/6 [==============================] - 0s 13ms/step - loss: 0.1215 - accuracy: 0.9531\n"
     ]
    }
   ],
   "source": [
    "prediction_result = model.evaluate(X_test, y_test_encoded, verbose=1)"
   ]
  },
  {
   "cell_type": "markdown",
   "metadata": {},
   "source": [
    "Volgens het model halen we met de test dataset een accuraatheid van 95.31%. Dit is een zeer hoge resultaat. Het lijkt erop dat het model niet veel last heeft van overfitting als we naar deze resultaten kijken. De loss zit ook zeer laag.\n",
    "\n",
    "Dit zullen we nu verder valideren door cross validation te gebruiken\n",
    "\n",
    "### Cross validation"
   ]
  },
  {
   "cell_type": "code",
   "execution_count": 66,
   "metadata": {},
   "outputs": [
    {
     "name": "stdout",
     "output_type": "stream",
     "text": [
      "------------------------------------------------------------------------\n",
      "Training for fold 1 ...\n",
      "Score for fold 1: loss of 0.14880670607089996; accuracy of 94.27083134651184%\n",
      "------------------------------------------------------------------------\n",
      "Training for fold 2 ...\n",
      "Score for fold 2: loss of 0.15126566588878632; accuracy of 95.3125%\n",
      "------------------------------------------------------------------------\n",
      "Training for fold 3 ...\n",
      "Score for fold 3: loss of 0.1337043195962906; accuracy of 95.83333134651184%\n",
      "------------------------------------------------------------------------\n",
      "Training for fold 4 ...\n",
      "Score for fold 4: loss of 0.10580448061227798; accuracy of 94.79166865348816%\n",
      "------------------------------------------------------------------------\n",
      "Training for fold 5 ...\n",
      "Score for fold 5: loss of 0.09867028146982193; accuracy of 95.3125%\n"
     ]
    }
   ],
   "source": [
    "from sklearn.model_selection import KFold\n",
    "\n",
    "cross_validation_x = np.concatenate((X_train, X_test), axis=0)\n",
    "cross_validation_y = np.concatenate((y_train_encoded, y_test_encoded), axis=0)\n",
    "\n",
    "# Define the K-fold Cross Validator\n",
    "kfold = KFold(n_splits=5, shuffle=True)\n",
    "\n",
    "acc_per_fold = []\n",
    "loss_per_fold = []\n",
    "\n",
    "fold_no = 1\n",
    "\n",
    "for train, test in kfold.split(cross_validation_x, cross_validation_y):\n",
    "    Inputs = None\n",
    "    inputs = keras.Input(shape=(32,32,1))\n",
    "\n",
    "    #add preprocess layers\n",
    "    preprocessed = preprocessing.CenterCrop(height=32, width=32)(inputs)\n",
    "\n",
    "    #add model layers\n",
    "    firstLayer = Conv2D(64, kernel_size=3, activation='relu', input_shape=(32,32,1))(preprocessed)\n",
    "    secondLayer = Conv2D(32, kernel_size=3, activation='relu')(firstLayer)\n",
    "    flattenLayer = Flatten()(secondLayer)\n",
    "    outputs = layers.Dense(10, activation=\"softmax\")(flattenLayer)\n",
    "\n",
    "    #create model\n",
    "    model = None\n",
    "    model = keras.Model(inputs, outputs)\n",
    "\n",
    "    #compile model using accuracy to measure model performance\n",
    "    model.compile(optimizer='adam', loss='categorical_crossentropy', metrics=['accuracy'])\n",
    "    \n",
    "    # Generate a print\n",
    "    print('------------------------------------------------------------------------')\n",
    "    print(f'Training for fold {fold_no} ...')\n",
    "    \n",
    "    #train the model\n",
    "    history = model.fit(X_train, y_train_encoded, validation_split=0.1, epochs=3, verbose=0)\n",
    "    \n",
    "    # Generate generalization metrics\n",
    "    scores = model.evaluate(X_test, y_test_encoded, verbose=0)\n",
    "    print(f'Score for fold {fold_no}: {model.metrics_names[0]} of {scores[0]}; {model.metrics_names[1]} of {scores[1]*100}%')\n",
    "    acc_per_fold.append(scores[1] * 100)\n",
    "    loss_per_fold.append(scores[0])\n",
    "\n",
    "    # Increase fold number\n",
    "    fold_no = fold_no + 1"
   ]
  },
  {
   "cell_type": "code",
   "execution_count": 68,
   "metadata": {},
   "outputs": [
    {
     "data": {
      "image/png": "[encoded data removed]",
      "text/plain": [
       "<Figure size 864x288 with 2 Axes>"
      ]
     },
     "metadata": {
      "needs_background": "light"
     },
     "output_type": "display_data"
    }
   ],
   "source": [
    "fig, (ax1, ax2) = pyplot.subplots(1, 2, figsize=(12,4))\n",
    "ax1.plot(loss_per_fold, label='validation loss')\n",
    "ax2.plot(acc_per_fold, label='validation accuracy')\n",
    "pyplot.legend()\n",
    "pyplot.show()"
   ]
  },
  {
   "cell_type": "markdown",
   "metadata": {},
   "source": [
    "Als we naar de resultaten kijken, dan lijkt de accuraatheid en loss in de buurt van dezelfde waardes te blijven. Dit betekent iets positiefs. Hiermee kunnen we namelijk veronderstellen dat het model niet veel last heeft van overfitting."
   ]
  },
  {
   "cell_type": "markdown",
   "metadata": {},
   "source": [
    "### Dropout\n",
    "\n",
    "Om verder te kijken naar overfitting zullen we dropout toepassen in het neuraal netwerk om de kans op overfitting te verlagen."
   ]
  },
  {
   "cell_type": "code",
   "execution_count": 70,
   "metadata": {},
   "outputs": [
    {
     "name": "stdout",
     "output_type": "stream",
     "text": [
      "Epoch 1/3\n",
      "49/49 [==============================] - 4s 65ms/step - loss: 1.0608 - accuracy: 0.6694 - val_loss: 0.3100 - val_accuracy: 0.9249\n",
      "Epoch 2/3\n",
      "49/49 [==============================] - 3s 61ms/step - loss: 0.1401 - accuracy: 0.9556 - val_loss: 0.2922 - val_accuracy: 0.9191\n",
      "Epoch 3/3\n",
      "49/49 [==============================] - 3s 60ms/step - loss: 0.0746 - accuracy: 0.9720 - val_loss: 0.3343 - val_accuracy: 0.9191\n"
     ]
    }
   ],
   "source": [
    "import tensorflow as tf\n",
    "from tensorflow import keras\n",
    "from tensorflow.keras import layers\n",
    "from tensorflow.keras.layers.experimental import preprocessing\n",
    "\n",
    "inputs = keras.Input(shape=(32,32,1))\n",
    "\n",
    "#add preprocess layers\n",
    "preprocessed = preprocessing.CenterCrop(height=32, width=32)(inputs)\n",
    "\n",
    "#add model layers\n",
    "firstLayer = Conv2D(64, kernel_size=3, activation='relu', input_shape=(32,32,1))(preprocessed)\n",
    "secondLayer = Conv2D(32, kernel_size=3, activation='relu')(firstLayer)\n",
    "flattenLayer = Flatten()(secondLayer)\n",
    "dropOutLayer = layers.Dropout(0.2)(flattenLayer)\n",
    "outputs = layers.Dense(10, activation=\"softmax\")(dropOutLayer)\n",
    "\n",
    "#create model\n",
    "model = None\n",
    "model = keras.Model(inputs, outputs)\n",
    "\n",
    "#compile model using accuracy to measure model performance\n",
    "model.compile(optimizer='adam', loss='categorical_crossentropy', metrics=['accuracy'])\n",
    "\n",
    "#train the model\n",
    "history = model.fit(X_train, y_train_encoded, validation_split=0.1, epochs=3)"
   ]
  },
  {
   "cell_type": "code",
   "execution_count": 71,
   "metadata": {},
   "outputs": [
    {
     "data": {
      "image/png": "[encoded data removed]",
      "text/plain": [
       "<Figure size 864x288 with 2 Axes>"
      ]
     },
     "metadata": {
      "needs_background": "light"
     },
     "output_type": "display_data"
    }
   ],
   "source": [
    "fig, (ax1, ax2) = pyplot.subplots(1, 2, figsize=(12,4))\n",
    "ax1.plot(history.history['loss'], label='train loss')\n",
    "ax2.plot(history.history['accuracy'], label='train accuracy')\n",
    "ax2.plot(history.history['val_accuracy'], label='validation accuracy')\n",
    "pyplot.legend()\n",
    "pyplot.show()"
   ]
  },
  {
   "cell_type": "markdown",
   "metadata": {},
   "source": [
    "Resultaten zien er alsnog positief uit. Validatie accuraatheid is ook constant. Zoals we eerder al geconcludeerd hadden heeft het neuraal netwerk niet veel last van overfitting. Door het combineren van\n",
    "\n",
    "- Cross validation\n",
    "- Dropout\n",
    "- Test dataset\n",
    "\n",
    "Lijkt de kans op overfitting verminderd te zijn. Dit model kan geexporteerd worden om als Uiteindelijke model te gebruiken."
   ]
  },
  {
   "cell_type": "markdown",
   "metadata": {},
   "source": [
    "## Export\n",
    "\n",
    "Exporteer neurale netwerk."
   ]
  },
  {
   "cell_type": "code",
   "execution_count": null,
   "metadata": {},
   "outputs": [],
   "source": []
  }
 ],
 "metadata": {
  "kernelspec": {
   "display_name": "Python 3",
   "language": "python",
   "name": "python3"
  },
  "language_info": {
   "codemirror_mode": {
    "name": "ipython",
    "version": 3
   },
   "file_extension": ".py",
   "mimetype": "text/x-python",
   "name": "python",
   "nbconvert_exporter": "python",
   "pygments_lexer": "ipython3",
   "version": "3.8.8"
  }
 },
 "nbformat": 4,
 "nbformat_minor": 4
}
