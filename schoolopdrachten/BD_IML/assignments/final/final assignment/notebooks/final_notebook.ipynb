{
 "cells": [
  {
   "cell_type": "markdown",
   "metadata": {},
   "source": [
    "## Student Number : 408846\n",
    "## Student Name : Ibrahim Sahin\n",
    "\n",
    "# Recognizer\n",
    "This notebook will be used to validate your model and grade your work."
   ]
  },
  {
   "cell_type": "markdown",
   "metadata": {},
   "source": [
    "# Collect features and execute model (YOUR IMPLEMENTATION HERE)\n",
    "You need to implement the following function that predicts the digits that are available in an image. The function should return an array with 4 elements, containing these 4 digits from left to right."
   ]
  },
  {
   "cell_type": "code",
   "execution_count": 7,
   "metadata": {},
   "outputs": [],
   "source": [
    "import glob\n",
    "import os\n",
    "import sklearn\n",
    "import joblib\n",
    "import skimage, skimage.io\n",
    "import pandas as pd\n",
    "import numpy as np\n",
    "from skimage import io, transform, color, filters, data, morphology, measure"
   ]
  },
  {
   "cell_type": "code",
   "execution_count": 8,
   "metadata": {},
   "outputs": [],
   "source": [
    "# Load the preprocessor (REPLACE WITH YOUR CODE)\n",
    "preproc = joblib.load('../classifiers/best_preprocessor.pkl') \n",
    "\n",
    "# Load your final model (REPLACE WITH YOUR CODE)\n",
    "clf = joblib.load('../classifiers/best_classifier.pkl') "
   ]
  },
  {
   "cell_type": "code",
   "execution_count": 9,
   "metadata": {},
   "outputs": [],
   "source": [
    "features = [1,2,3,4,5,6,7,8,9,10,11,12,13,14,15,16,\n",
    "            'major_axis_length', 'minor_axis_length', 'euler_number', \n",
    "            'centroid-0', 'eccentricity', 'local_centroid-0', 'perimeter', \n",
    "            'perimeter_crofton', 'filled_area', 'orientation']\n",
    "\n",
    "def initialize_image_grids(image):\n",
    "    zipcode = image\n",
    "    zipcode = zipcode *-1\n",
    "    gray = color.rgb2gray(zipcode)\n",
    "    thresh = filters.threshold_otsu(gray)\n",
    "    binary = gray > thresh\n",
    "    binary_splitted = [binary[:, :32], binary[:, 32:64], binary[:, 64:96], binary[:, 96:128]]\n",
    "    \n",
    "    df = pd.DataFrame()\n",
    "\n",
    "    for x in range(0, len(binary_splitted)):\n",
    "        \n",
    "        test = binary_splitted[x]\n",
    "        height = 8\n",
    "        width = 8\n",
    "\n",
    "        s_width = 0\n",
    "        s_heigth = 0\n",
    "\n",
    "        for i in range(1, 17):\n",
    "            h = s_heigth+height\n",
    "            w = s_width+width\n",
    "            feat = test[s_heigth:h, s_width:w]\n",
    "            white_pixels = feat[feat==1]\n",
    "            total_white_pixels = len(white_pixels)\n",
    "            df.loc[x, i] = total_white_pixels\n",
    "            if (i%4 == 0):\n",
    "                s_width = 0\n",
    "                s_heigth = s_heigth + height\n",
    "            else:\n",
    "                s_width = s_width + width\n",
    "        \n",
    "    return df\n",
    "\n",
    "image_properties = ['label', 'area', 'centroid', \n",
    "                    'perimeter', 'eccentricity', 'euler_number',\n",
    "                    'filled_area','perimeter_crofton', 'local_centroid', \n",
    "                    'major_axis_length', 'minor_axis_length', 'orientation']\n",
    "\n",
    "def initialize_image_props(image):\n",
    "    zipcode = image\n",
    "    zipcode = zipcode *-1\n",
    "    gray = color.rgb2gray(zipcode)\n",
    "    thresh = filters.threshold_otsu(gray)\n",
    "    binary = gray > thresh\n",
    "    \n",
    "    # remove the white small spots/dots\n",
    "    binary = morphology.binary_opening(binary)\n",
    "    \n",
    "    # make the white zip numbers thicker\n",
    "    binary = morphology.binary_dilation(binary)\n",
    "    \n",
    "    # some numbers may have holes in it. That could seperate the number in 2 different labels. with closing the gap will be closed\n",
    "    binary = morphology.binary_closing(binary)\n",
    "    \n",
    "    # return number back to its original state before it was made thicker. make the numbers thinner\n",
    "    binary = morphology.binary_erosion(binary)\n",
    "\n",
    "    label_image, total_labels = measure.label(binary, return_num=True)\n",
    "    \n",
    "    global image_properties\n",
    "    props = measure.regionprops_table(label_image, properties=image_properties)\n",
    "    tmp_df = pd.DataFrame(props)\n",
    "    \n",
    "    # filter out labels that have too small areas. these labels are small dots that could not be filled with the opening function\n",
    "    tmp_df = tmp_df.query('area > 50').reset_index(drop=True)\n",
    "        \n",
    "    return tmp_df"
   ]
  },
  {
   "cell_type": "code",
   "execution_count": 10,
   "metadata": {},
   "outputs": [],
   "source": [
    "def classify_image(filename):\n",
    "    result = list()\n",
    "\n",
    "    img_array = skimage.io.imread(filename)\n",
    "\n",
    "    tmp_result_grid = initialize_image_grids(img_array)\n",
    "    tmp_result_props = initialize_image_props(img_array)\n",
    "    tmp_result = pd.concat([tmp_result_grid,tmp_result_props], axis=1)\n",
    "    tmp_result[features] = preproc.transform(tmp_result[features])\n",
    "    predicted = clf.predict(tmp_result[features])\n",
    "    \n",
    "    for i in range(4):\n",
    "        result.append(str(predicted[i]))\n",
    "    \n",
    "    return result"
   ]
  },
  {
   "cell_type": "markdown",
   "metadata": {},
   "source": [
    "# Score your model (DON'T CHANGE THIS CODE!!!)"
   ]
  },
  {
   "cell_type": "code",
   "execution_count": 11,
   "metadata": {},
   "outputs": [
    {
     "name": "stdout",
     "output_type": "stream",
     "text": [
      "Digit accuracy:  0.9885416666666667 ( 949 / 11 )\n",
      "Zipcode accuracy:  0.9541666666666667 ( 229 / 11 )\n"
     ]
    }
   ],
   "source": [
    "DATASET_FOLDER = '../dataset-images/'\n",
    "\n",
    "# Outcomes\n",
    "correct_classified_digits = 0\n",
    "incorrect_classified_digits = 0\n",
    "correct_classified_zipcodes = 0\n",
    "incorrect_classified_zipcodes = 0\n",
    "\n",
    "# Score the classifier\n",
    "files = glob.glob(os.path.join(DATASET_FOLDER, '*.png'))\n",
    "for f in files:\n",
    "    # Get the correct label from the filename\n",
    "    correct_label = f[-8:-4]\n",
    "    # Predict using the classifier\n",
    "    predicted_label = classify_image(f)\n",
    "    \n",
    "    # Score digits\n",
    "    zipcode_correct = True\n",
    "    for i in range(len(correct_label)):\n",
    "        if str(correct_label[i]) == str(predicted_label[i]):\n",
    "            correct_classified_digits += 1\n",
    "        else:\n",
    "            incorrect_classified_digits += 1\n",
    "            zipcode_correct = False\n",
    "    \n",
    "    # Score correct zipcodes\n",
    "    if zipcode_correct:\n",
    "        correct_classified_zipcodes += 1\n",
    "    else:\n",
    "        incorrect_classified_zipcodes += 1\n",
    "\n",
    "print(\"Digit accuracy: \", (correct_classified_digits / (correct_classified_digits + incorrect_classified_digits)), \"(\", correct_classified_digits, \"/\", incorrect_classified_digits, \")\")\n",
    "print(\"Zipcode accuracy: \", (correct_classified_zipcodes / (correct_classified_zipcodes + incorrect_classified_zipcodes)), \"(\", correct_classified_zipcodes, \"/\", incorrect_classified_zipcodes, \")\")        \n"
   ]
  },
  {
   "cell_type": "code",
   "execution_count": null,
   "metadata": {},
   "outputs": [],
   "source": []
  }
 ],
 "metadata": {
  "kernelspec": {
   "display_name": "Python 3",
   "language": "python",
   "name": "python3"
  },
  "language_info": {
   "codemirror_mode": {
    "name": "ipython",
    "version": 3
   },
   "file_extension": ".py",
   "mimetype": "text/x-python",
   "name": "python",
   "nbconvert_exporter": "python",
   "pygments_lexer": "ipython3",
   "version": "3.8.9"
  },
  "toc": {
   "base_numbering": 1,
   "nav_menu": {},
   "number_sections": true,
   "sideBar": true,
   "skip_h1_title": false,
   "title_cell": "Table of Contents",
   "title_sidebar": "Contents",
   "toc_cell": false,
   "toc_position": {},
   "toc_section_display": true,
   "toc_window_display": false
  },
  "varInspector": {
   "cols": {
    "lenName": 16,
    "lenType": 16,
    "lenVar": 40
   },
   "kernels_config": {
    "python": {
     "delete_cmd_postfix": "",
     "delete_cmd_prefix": "del ",
     "library": "var_list.py",
     "varRefreshCmd": "print(var_dic_list())"
    },
    "r": {
     "delete_cmd_postfix": ") ",
     "delete_cmd_prefix": "rm(",
     "library": "var_list.r",
     "varRefreshCmd": "cat(var_dic_list()) "
    }
   },
   "types_to_exclude": [
    "module",
    "function",
    "builtin_function_or_method",
    "instance",
    "_Feature"
   ],
   "window_display": false
  }
 },
 "nbformat": 4,
 "nbformat_minor": 1
}
