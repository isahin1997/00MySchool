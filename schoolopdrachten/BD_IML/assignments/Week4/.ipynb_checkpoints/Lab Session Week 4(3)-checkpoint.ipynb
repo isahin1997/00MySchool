{
 "cells": [
  {
   "cell_type": "markdown",
   "metadata": {},
   "source": [
    "# Lab session week 4: Analysis and cleaning\n",
    "\n",
    "In this lab session you will learn how to work with analysing, cleaning and preprocessing data. You will use the kNN classifier in the end.\n",
    "\n",
    "This weeks lab session consists of 5 small exercises:\n",
    "1. Analysing your data\n",
    "2. Imputation of missing values\n",
    "3. Dealing with outliers\n",
    "3. Preprocessing\n",
    "4. Classification with kNN"
   ]
  },
  {
   "cell_type": "code",
   "execution_count": 1,
   "metadata": {},
   "outputs": [],
   "source": [
    "from IPython.display import HTML\n",
    "import matplotlib\n",
    "import pandas as pd\n",
    "import numpy as np\n",
    "pd.set_option('display.max_columns', 500)"
   ]
  },
  {
   "cell_type": "markdown",
   "metadata": {},
   "source": [
    "## Exercise 1: analysing data with Pandas\n",
    "During this exercise we will use the dataset `housedata.csv`. Please watch the following video to understand the describe function of Pandas:"
   ]
  },
  {
   "cell_type": "code",
   "execution_count": 2,
   "metadata": {},
   "outputs": [
    {
     "name": "stderr",
     "output_type": "stream",
     "text": [
      "/Users/edu01/.pyenv/versions/anaconda3-5.1.0/lib/python3.6/site-packages/IPython/core/display.py:694: UserWarning: Consider using IPython.display.IFrame instead\n",
      "  warnings.warn(\"Consider using IPython.display.IFrame instead\")\n"
     ]
    },
    {
     "data": {
      "text/html": [
       "<iframe width=\"560\" height=\"315\" src=\"https://www.youtube.com/embed/MaTAhxRsshE\" frameborder=\"0\" allow=\"autoplay; encrypted-media\" allowfullscreen></iframe>"
      ],
      "text/plain": [
       "<IPython.core.display.HTML object>"
      ]
     },
     "execution_count": 2,
     "metadata": {},
     "output_type": "execute_result"
    }
   ],
   "source": [
    "HTML('<iframe width=\"560\" height=\"315\" src=\"https://www.youtube.com/embed/MaTAhxRsshE\" frameborder=\"0\" allow=\"autoplay; encrypted-media\" allowfullscreen></iframe>')"
   ]
  },
  {
   "cell_type": "markdown",
   "metadata": {},
   "source": [
    "This exercise will use a dataset that has been created using this dataset from Kaggle (https://www.kaggle.com/c/house-prices-advanced-regression-techniques/data). It might be useful to look up the column information for each of the columns in your own dataset before you proceed.\n",
    "\n",
    "Now it is time to analyse our own dataset `housedata.csv`. Please do the following exercises:\n",
    "1. Load your data into a dataframe\n",
    "2. Have a look at the statistics using the describe function (hint: use include = 'all') and answer the following questions\n",
    "    - Does your dataset have missing values?\n",
    "    - Are their outliers?\n",
    "    - How is the distribution of your data (hint: use plots)?"
   ]
  },
  {
   "cell_type": "code",
   "execution_count": 3,
   "metadata": {
    "scrolled": false
   },
   "outputs": [],
   "source": [
    "# Your code here"
   ]
  },
  {
   "cell_type": "markdown",
   "metadata": {},
   "source": [
    "**Your answers:**\n",
    "- Does the data set have missing values? Which columns?\n",
    "    - ...\n",
    "- Does the data set have outliers? Which columns?\n",
    "    - ...\n",
    "- How is the distribution of your data?\n",
    "    - ..."
   ]
  },
  {
   "cell_type": "markdown",
   "metadata": {},
   "source": [
    "## Exercise 2: Imputation\n",
    "We will now fix the problem of missing values by using imputation. Please watch the following video to understand how imputation works:"
   ]
  },
  {
   "cell_type": "code",
   "execution_count": 4,
   "metadata": {},
   "outputs": [
    {
     "data": {
      "text/html": [
       "<iframe width=\"560\" height=\"315\" src=\"https://www.youtube.com/embed/D6saJ9R65L4\" frameborder=\"0\" allow=\"autoplay; encrypted-media\" allowfullscreen></iframe>"
      ],
      "text/plain": [
       "<IPython.core.display.HTML object>"
      ]
     },
     "execution_count": 4,
     "metadata": {},
     "output_type": "execute_result"
    }
   ],
   "source": [
    "HTML('<iframe width=\"560\" height=\"315\" src=\"https://www.youtube.com/embed/D6saJ9R65L4\" frameborder=\"0\" allow=\"autoplay; encrypted-media\" allowfullscreen></iframe>')"
   ]
  },
  {
   "cell_type": "markdown",
   "metadata": {},
   "source": [
    "Lets try to do imputation on our own dataset.\n",
    "\n",
    "1. Impute missing values (mean, median or mode) depending on the earlier found statistics\n",
    "2. Use the Scikit-learn framework for imputation (http://scikit-learn.org/stable/modules/impute.html)"
   ]
  },
  {
   "cell_type": "code",
   "execution_count": 5,
   "metadata": {},
   "outputs": [],
   "source": [
    "# Impute missing values for numerical data using the imputer\n",
    "from sklearn.preprocessing import Imputer\n",
    "\n",
    "# Your code here"
   ]
  },
  {
   "cell_type": "code",
   "execution_count": 6,
   "metadata": {},
   "outputs": [],
   "source": [
    "# Impute missing values for categorical values using pandas operations\n",
    "\n",
    "# Your code here"
   ]
  },
  {
   "cell_type": "markdown",
   "metadata": {},
   "source": [
    "## Exercise 3: Dealing with outliers\n",
    "Since your dataset contains some outliers, we should fix this problem before proceeding to the next step. Read the following two (short) articles:\n",
    "1. https://www.theanalysisfactor.com/outliers-to-drop-or-not-to-drop/\n",
    "2. https://www.rapidinsightinc.com/handle-outliers/\n",
    "\n",
    "Use the described techniques, find the outliers in your dataset and deal with them!"
   ]
  },
  {
   "cell_type": "code",
   "execution_count": 7,
   "metadata": {},
   "outputs": [],
   "source": [
    "# Your code here"
   ]
  },
  {
   "cell_type": "markdown",
   "metadata": {},
   "source": [
    "## Exercise 4: Preprocessing\n",
    "In order to use the data we have to preprocess the data. We have to perform several steps to make the data ready for classification.\n",
    "\n",
    "1. Apply one-hot-encoding on categorical features (use Scikit-learn or getDummies in Pandas (see: http://queirozf.com/entries/one-hot-encoding-a-feature-on-a-pandas-dataframe-an-example))\n",
    "2. Apply min-max-scaling or standardization (use Scikit-learn)"
   ]
  },
  {
   "cell_type": "code",
   "execution_count": 8,
   "metadata": {},
   "outputs": [],
   "source": [
    "#1: Apply one hot encoding (using getdummies and concat?)\n",
    "\n",
    "# Your code here"
   ]
  },
  {
   "cell_type": "code",
   "execution_count": 9,
   "metadata": {},
   "outputs": [],
   "source": [
    "#2: Apply min-max scaling or standardization\n",
    "\n",
    "# Your code here"
   ]
  },
  {
   "cell_type": "markdown",
   "metadata": {},
   "source": [
    "## Exercise 5: Classification\n",
    "1. Split the dataset in two parts (75%/25%) for training and testing.\n",
    "2. Use the kNN algorithm from Scikit-learn and train a classifier\n",
    "3. Validate using your testset\n",
    "4. Play around with several hyperparameters to optimize your classification results\n",
    "\n",
    "**Warning: this dataset will probably not give you great classification results (around 70% score)**"
   ]
  },
  {
   "cell_type": "code",
   "execution_count": 18,
   "metadata": {},
   "outputs": [],
   "source": [
    "# Your code here"
   ]
  }
 ],
 "metadata": {
  "kernelspec": {
   "display_name": "Python 3",
   "language": "python",
   "name": "python3"
  },
  "language_info": {
   "codemirror_mode": {
    "name": "ipython",
    "version": 3
   },
   "file_extension": ".py",
   "mimetype": "text/x-python",
   "name": "python",
   "nbconvert_exporter": "python",
   "pygments_lexer": "ipython3",
   "version": "3.8.9"
  },
  "varInspector": {
   "cols": {
    "lenName": 16,
    "lenType": 16,
    "lenVar": 40
   },
   "kernels_config": {
    "python": {
     "delete_cmd_postfix": "",
     "delete_cmd_prefix": "del ",
     "library": "var_list.py",
     "varRefreshCmd": "print(var_dic_list())"
    },
    "r": {
     "delete_cmd_postfix": ") ",
     "delete_cmd_prefix": "rm(",
     "library": "var_list.r",
     "varRefreshCmd": "cat(var_dic_list()) "
    }
   },
   "types_to_exclude": [
    "module",
    "function",
    "builtin_function_or_method",
    "instance",
    "_Feature"
   ],
   "window_display": false
  }
 },
 "nbformat": 4,
 "nbformat_minor": 2
}
