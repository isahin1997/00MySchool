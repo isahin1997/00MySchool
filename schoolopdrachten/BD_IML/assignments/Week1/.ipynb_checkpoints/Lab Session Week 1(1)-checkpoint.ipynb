{
 "cells": [
  {
   "cell_type": "markdown",
   "metadata": {},
   "source": [
    "# Week 1: Introduction to Machine Learning with linear regression\n",
    "\n",
    "During this course you will learn how to work with machine learning techniques to build your own smart systems. The first weeks we will focus on supervised learning. This means: learning from examples. In other words: we will feed the computer plenty of examples of inputs and corresponding outputs and we hope that the computer is able to find a relation between input and output.\n",
    "\n",
    "In the example today we will build a simple mathematical model (a simple linear function) that is able to describe the relationship between the construction year of an appartment and the price of the appartment.\n",
    "\n",
    "The exercise consists of three steps:\n",
    "- Getting familiar with Matplotlib. This library will help you to understand and visualize the problem\n",
    "- Guessing what the solution could be\n",
    "- Implementing the cost function and finding the best solution"
   ]
  },
  {
   "cell_type": "code",
   "execution_count": 4,
   "metadata": {},
   "outputs": [],
   "source": [
    "# First we import the libraries that we need\n",
    "import numpy as np\n",
    "import pandas as pd\n",
    "import matplotlib\n",
    "import matplotlib.pyplot as plt\n",
    "%matplotlib inline\n",
    "\n",
    "# Config: size of the figures\n",
    "matplotlib.rcParams['figure.figsize'] = [10, 6]"
   ]
  },
  {
   "cell_type": "code",
   "execution_count": 5,
   "metadata": {},
   "outputs": [
    {
     "data": {
      "text/html": [
       "<style>\n",
       "table {margin-left: 0 !important;}\n",
       "</style>\n"
      ],
      "text/plain": [
       "<IPython.core.display.HTML object>"
      ]
     },
     "metadata": {},
     "output_type": "display_data"
    }
   ],
   "source": [
    "%%html\n",
    "<style>\n",
    "table {margin-left: 0 !important;}\n",
    "</style>"
   ]
  },
  {
   "cell_type": "markdown",
   "metadata": {},
   "source": [
    "# Part 1: Understanding matplotlib\n",
    "It is important to understand some of the fundamentals of Matplotlib, in order to use it effectively. Please study the anatomy of Matplotlib and read the basic information about Matplotlib: \n",
    "- https://realpython.com/python-matplotlib-guide/\n",
    "- https://matplotlib.org/faq/usage_faq.html\n",
    "\n",
    "![alt text](https://matplotlib.org/_images/anatomy1.png)"
   ]
  },
  {
   "cell_type": "markdown",
   "metadata": {},
   "source": [
    "### Exercise 1: figure with points and functions\n",
    "Plot the following data in a figure:\n",
    "1. Plot the following points in a figure: \n",
    "    - (2,5)\n",
    "    - (8,18) represented with square markers\n",
    "    - (-6,5) represented with plus markers\n",
    "    - (-3,-5) represented with star markers\n",
    "2. Plot the following functions in the figure: \n",
    "    - $f(x) = 2x + 3$ in color red\n",
    "    - $g(x) = \\frac{1}{4}x^2 + 5$ in color blue with a dotted line\n",
    "    - $h(x) = \\frac{1}{50}x^3 + 2$ in color orange with a dashed line\n",
    "3. Draw the X-axis and Y-axis\n",
    "4. Give the figure a title and name the x-axis and y-axis\n",
    "5. Draw a legend in the figure"
   ]
  },
  {
   "cell_type": "code",
   "execution_count": 6,
   "metadata": {},
   "outputs": [],
   "source": [
    "# Your code here"
   ]
  },
  {
   "cell_type": "markdown",
   "metadata": {},
   "source": [
    "### Exercise 2: subplotting\n",
    "Create one figure with three subplots\n",
    "1. Plot the following functions in one figure, but in different subplots (next to each other)\n",
    "    - $f(x) = 2x + 3$ in color red\n",
    "    - $g(x) = \\frac{1}{4}x^2 + 5$ in color blue with a dotted line\n",
    "    - $h(x) = \\frac{1}{50}x^3 + 2$ in color orange with a dashed line\n",
    "2. Calculate the derivatives for each of the functions and draw them in the same subplot as their original function\n",
    "3. Show the x-axis and y-axis in all the three graphs"
   ]
  },
  {
   "cell_type": "code",
   "execution_count": 7,
   "metadata": {},
   "outputs": [],
   "source": [
    "# Your code here"
   ]
  },
  {
   "cell_type": "markdown",
   "metadata": {},
   "source": [
    "# Part 2: Introduction of the regression problem\n",
    "We will try to find a function that describes the relationship between the year an apartment was constructed and its selling price. The result (also called a model) is a mathematical linear function.\n",
    "\n",
    "## What is regression\n",
    "Suppose you are in real estate and you are selling appartments. You expect that there is a clear relationship between the year that the appartment was constructed and the price of the appartment.\n",
    "\n",
    "| Year of construction (19XX) | Price (in k dollars) |\n",
    "|----------------------|----------------------|\n",
    "|32                  |31.7k                 |\n",
    "|53                  |68.7k                 |\n",
    "|61                  |62.5k                 |\n",
    "|...                   |...                   |\n",
    "|25                  |53.4k                 |\n",
    "\n",
    "We would like to find the best possible function that describes the relation between construction year and price of the appartment, so that we can use this function in the future for predicting house prices.\n",
    "\n",
    "In this example we will look for a linear function: $ solution(x) = a.x + b $ where $a$ is the slope and $b$ is the intercept of the function."
   ]
  },
  {
   "cell_type": "markdown",
   "metadata": {},
   "source": [
    "### Exercise 3: \"guessing\" the optimal function\n",
    "- Plot the data from the data.csv file (use the code below to read the csv file into two lists (x and y values))\n",
    "- Draw a basic linear function ($f(x) = a.x + b$) with $a = 1$ and $b = 1$\n",
    "- Find the best values for a and b by changing these values manually"
   ]
  },
  {
   "cell_type": "code",
   "execution_count": 16,
   "metadata": {},
   "outputs": [
    {
     "data": {
      "text/plain": [
       "<matplotlib.lines.Line2D at 0x121826160>"
      ]
     },
     "execution_count": 16,
     "metadata": {},
     "output_type": "execute_result"
    },
    {
     "data": {
      "image/png": "[encoded data removed]",
      "text/plain": [
       "<Figure size 720x432 with 1 Axes>"
      ]
     },
     "metadata": {
      "needs_background": "light"
     },
     "output_type": "display_data"
    }
   ],
   "source": [
    "# Read CSV into matrix\n",
    "data = np.genfromtxt('data.csv', delimiter=',')\n",
    "\n",
    "# Loop through the rows and split x and y values in two separate lists\n",
    "x_val = [row[0] for row in data]\n",
    "y_val = [row[1] for row in data]\n",
    "\n",
    "# Plot titles and axis information\n",
    "plt.title('House prices with respect to its building year')\n",
    "plt.xlabel('Year of construction (19XX)')\n",
    "plt.ylabel('Price (k dollars)')\n",
    "\n",
    "# Draw axis\n",
    "plt.axhline(0, color='black')\n",
    "plt.axvline(0, color='black')\n",
    "\n",
    "# Your code here"
   ]
  },
  {
   "cell_type": "markdown",
   "metadata": {},
   "source": [
    "Finding the optimal function by hand is difficult. In general each linear function has the structure $f(x) = a.x + b$. We want to find the perfect $a$ and $b$ so that the function describes our data best. In this homework we will simplify the problem by **assuming that the best possible value for $b = 0$, so that we only have to optimize $a$**.\n",
    "\n",
    "In order to find the best values for $a$ we need a so called cost function.\n",
    "\n",
    "## Cost function (Sum of Squared Errors)\n",
    "A cost function is a function that is able to determine how good your solution is. There are several available cost functions that you could use, but in this example we will use the sum or squared errors.\n",
    "\n",
    "$$ SSE = \\sum_{i=1}^{n} (Y_i - solution(X_i))^2 $$\n",
    "\n",
    "This formula might look difficult at first, but is actually not that hard to understand. We are trying to determine the difference between the real value (the value from our dataset) and the predicted value (as predicted by our current solution) and sum these values. We square the difference to have no distinction between negative and positive differences.\n",
    "\n",
    "### Example\n",
    "First we need to define what our variables mean:\n",
    "- $n$ is the total number of samples in the dataset\n",
    "- $X$ is the list of all the inputs (construction year of an apartment)\n",
    "- $X_i$ is the ith element in the list of input\n",
    "- $Y$ is the outcome that belongs to each X\n",
    "- $Y_i$ is the ith outcome (belongs to input $X_i$\n",
    "- $solution(x) = 1.2x + 0 $ is our current solution (the function we want to optimize with currently $a=1.2$ and $b=0$)\n",
    "\n",
    "**Sigma notation (sum up)** \n",
    "\n",
    "This notation is comparable to a for-loop in programming:\n",
    "\n",
    "$ \\sum_{i=1}^{n}{expression} $\n",
    "\n",
    "Could be written in Python:\n",
    "\n",
    "```python\n",
    "result = 0\n",
    "for i in range(1, n):\n",
    "    result += expression\n",
    "```\n",
    "\n",
    "For example:\n",
    "$ \\sum_{i=1}^{4}(i) $ means summing all $i$'s in the range 1 up to (and including) 4. \n",
    "$$ \\sum_{i=1}^{4}(i) = 1 + 2 + 3 + 4 $$\n",
    "\n",
    "**Our formula can be rewritten as:**\n",
    "$$ SSE = \\sum_{i=1}^{n} (Y_i - solution(X_i))^2 = (Y_1 - solution(X_1))^2 + (Y_2 - solution(X_2))^2 + ... + (Y_n - solution(X_n))^2 $$\n",
    "\n",
    "**Example using the given dataset**\n",
    "Given our dataset and the solution (the function that we are trying to evaluate):\n",
    "\n",
    "|$i$  | $X$ | $Y$ | solution($X_i$)\n",
    "|---|----------------------|----------------------|----------------------|\n",
    "|1  |32                  |31.7k                 |38.4|\n",
    "|2  |53                  |68.7k                 |63.6|\n",
    "|3  |61                  |62.5k                 |73.2|\n",
    "|...|...                   |...                   |...\n",
    "|n  |25                  |53.4k                 |30|\n",
    "\n",
    "\n",
    "Suppose that we only consider the values for i=1, 2 or 3 (just for the example). The SSE could be calculated as follows:\n",
    "$$SSE = (31.7 - 38.4)^2 + (31.7 - 63.6)^2 + (31.7 - 73.2)^2 = 2784.75 $$\n",
    "\n",
    "\n",
    "### Exercise 4: implement the SSE function in Python\n",
    "- Implement the just explained cost function and test with the dataset."
   ]
  },
  {
   "cell_type": "code",
   "execution_count": 9,
   "metadata": {},
   "outputs": [],
   "source": [
    "# Your code here"
   ]
  },
  {
   "cell_type": "markdown",
   "metadata": {},
   "source": [
    "### Now what?\n",
    "The just calculated value is a value that describes how good our current solution is. By changing the $a$ parameter in our solution function, the cost function will either return a higher or lower number. Each better solution will give a lower cost. In other words: we want to minimize the cost function to find the best possible solution.\n",
    "\n",
    "### Exercise 5: draw the cost function and find the minimum\n",
    "- Draw the cost function for different values of $a$\n",
    "- Find the value for $a$ with the lowest cost"
   ]
  },
  {
   "cell_type": "code",
   "execution_count": 10,
   "metadata": {},
   "outputs": [],
   "source": [
    "# Your code here"
   ]
  },
  {
   "cell_type": "markdown",
   "metadata": {},
   "source": [
    "### Exercise 6: draw the original dataset and the optimal solution"
   ]
  },
  {
   "cell_type": "code",
   "execution_count": 11,
   "metadata": {},
   "outputs": [],
   "source": [
    "# Your code here"
   ]
  },
  {
   "cell_type": "markdown",
   "metadata": {},
   "source": [
    "# Bonus: let the machine learning framework do all the work\n",
    "Take a look at the LinearRegression component in the Scikit-Learn framework (https://scikit-learn.org/stable/modules/generated/sklearn.linear_model.LinearRegression.html).\n",
    "\n",
    "See if you are able to find the optimal slope (called coefficient) and the optimal intercept with the component.\n",
    "\n",
    "Hint: you have to convert the x_val into a NumPy array using ``np.array(x_val).reshape(-1, 1)``"
   ]
  },
  {
   "cell_type": "code",
   "execution_count": 17,
   "metadata": {},
   "outputs": [],
   "source": [
    "# Your code here"
   ]
  }
 ],
 "metadata": {
  "kernelspec": {
   "display_name": "Python 3",
   "language": "python",
   "name": "python3"
  },
  "language_info": {
   "codemirror_mode": {
    "name": "ipython",
    "version": 3
   },
   "file_extension": ".py",
   "mimetype": "text/x-python",
   "name": "python",
   "nbconvert_exporter": "python",
   "pygments_lexer": "ipython3",
   "version": "3.8.9"
  },
  "toc": {
   "base_numbering": 1,
   "nav_menu": {},
   "number_sections": true,
   "sideBar": true,
   "skip_h1_title": false,
   "title_cell": "Table of Contents",
   "title_sidebar": "Contents",
   "toc_cell": false,
   "toc_position": {},
   "toc_section_display": true,
   "toc_window_display": false
  },
  "varInspector": {
   "cols": {
    "lenName": 16,
    "lenType": 16,
    "lenVar": 40
   },
   "kernels_config": {
    "python": {
     "delete_cmd_postfix": "",
     "delete_cmd_prefix": "del ",
     "library": "var_list.py",
     "varRefreshCmd": "print(var_dic_list())"
    },
    "r": {
     "delete_cmd_postfix": ") ",
     "delete_cmd_prefix": "rm(",
     "library": "var_list.r",
     "varRefreshCmd": "cat(var_dic_list()) "
    }
   },
   "types_to_exclude": [
    "module",
    "function",
    "builtin_function_or_method",
    "instance",
    "_Feature"
   ],
   "window_display": false
  }
 },
 "nbformat": 4,
 "nbformat_minor": 2
}
