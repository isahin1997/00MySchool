{
 "cells": [
  {
   "cell_type": "markdown",
   "metadata": {},
   "source": [
    "# Lab session week 5 - extra: Implementing your own decision tree\n",
    "\n",
    "In this **extra** lab session you will build your own implementation of a CART decision tree."
   ]
  },
  {
   "cell_type": "code",
   "execution_count": 1,
   "metadata": {},
   "outputs": [],
   "source": [
    "from IPython.display import HTML\n",
    "import matplotlib\n",
    "import pandas as pd\n",
    "import numpy.testing as npt"
   ]
  },
  {
   "cell_type": "markdown",
   "metadata": {},
   "source": [
    "## Implement the CART decision tree algorithm\n",
    "See the slides for the explanation of both gini impurity and information gain.\n",
    "\n",
    "We will implement this algorith in the following steps:\n",
    "1. Write functions for calculating gini impurity and information gain\n",
    "2. Write a function that is able to find the best next question (using the previously implemented methods)\n",
    "3. Use the construct tree method to build the tree\n",
    "4. Write a classify method to use the tree for classification\n",
    "\n",
    "This is the dataset that we will use. Please note that the categorical variable color has been one-hot encoded (converted into boolean values)\n",
    "\n",
    "We can also easiliy calculate the possibilities by hand so that you can check if your implementation is correct:"
   ]
  },
  {
   "cell_type": "code",
   "execution_count": 2,
   "metadata": {},
   "outputs": [
    {
     "data": {
      "text/html": [
       "<div>\n",
       "<style scoped>\n",
       "    .dataframe tbody tr th:only-of-type {\n",
       "        vertical-align: middle;\n",
       "    }\n",
       "\n",
       "    .dataframe tbody tr th {\n",
       "        vertical-align: top;\n",
       "    }\n",
       "\n",
       "    .dataframe thead th {\n",
       "        text-align: right;\n",
       "    }\n",
       "</style>\n",
       "<table border=\"1\" class=\"dataframe\">\n",
       "  <thead>\n",
       "    <tr style=\"text-align: right;\">\n",
       "      <th></th>\n",
       "      <th>isRed</th>\n",
       "      <th>isBlack</th>\n",
       "      <th>isYellow</th>\n",
       "      <th>seats</th>\n",
       "      <th>label</th>\n",
       "    </tr>\n",
       "  </thead>\n",
       "  <tbody>\n",
       "    <tr>\n",
       "      <td>0</td>\n",
       "      <td>1</td>\n",
       "      <td>0</td>\n",
       "      <td>0</td>\n",
       "      <td>5</td>\n",
       "      <td>car</td>\n",
       "    </tr>\n",
       "    <tr>\n",
       "      <td>1</td>\n",
       "      <td>0</td>\n",
       "      <td>1</td>\n",
       "      <td>0</td>\n",
       "      <td>2</td>\n",
       "      <td>car</td>\n",
       "    </tr>\n",
       "    <tr>\n",
       "      <td>2</td>\n",
       "      <td>0</td>\n",
       "      <td>1</td>\n",
       "      <td>0</td>\n",
       "      <td>2</td>\n",
       "      <td>motorbike</td>\n",
       "    </tr>\n",
       "    <tr>\n",
       "      <td>3</td>\n",
       "      <td>0</td>\n",
       "      <td>0</td>\n",
       "      <td>1</td>\n",
       "      <td>25</td>\n",
       "      <td>train</td>\n",
       "    </tr>\n",
       "    <tr>\n",
       "      <td>4</td>\n",
       "      <td>0</td>\n",
       "      <td>0</td>\n",
       "      <td>1</td>\n",
       "      <td>30</td>\n",
       "      <td>train</td>\n",
       "    </tr>\n",
       "  </tbody>\n",
       "</table>\n",
       "</div>"
      ],
      "text/plain": [
       "   isRed  isBlack  isYellow  seats      label\n",
       "0      1        0         0      5        car\n",
       "1      0        1         0      2        car\n",
       "2      0        1         0      2  motorbike\n",
       "3      0        0         1     25      train\n",
       "4      0        0         1     30      train"
      ]
     },
     "metadata": {},
     "output_type": "display_data"
    }
   ],
   "source": [
    "headings = ['isRed', 'isBlack', 'isYellow', 'seats', 'label']\n",
    "\n",
    "data_with_labels = pd.DataFrame( \n",
    "       [[1, 0, 0, 5, 'car'],\n",
    "        [0, 1, 0, 2, 'car'],\n",
    "        [0, 1, 0, 2, 'motorbike'],\n",
    "        [0, 0, 1, 25, 'train'],\n",
    "        [0, 0, 1, 30, 'train']], columns=headings)\n",
    "\n",
    "display(data_with_labels)"
   ]
  },
  {
   "cell_type": "markdown",
   "metadata": {},
   "source": [
    "We will use the following class to make our implementation easier. Each instance of Question represents one possible question. In this example we will use only numerical questions. Each question contains the name of a column in the original dataset and the value. The question will always use the operator >=.\n",
    "\n",
    "**For example: Question('isBlack', 5) represents the question dataset['isBlack'] >= 5**\n",
    "\n",
    "This question object is also able to partition your dataset by this question. Use the partition function for this."
   ]
  },
  {
   "cell_type": "code",
   "execution_count": 3,
   "metadata": {},
   "outputs": [],
   "source": [
    "class Question:\n",
    "    \"\"\"Class that represents a question\n",
    "    Each question contains the column name and the value\n",
    "    The question will then represent dataset[col_name] >= value\n",
    "    \"\"\"\n",
    "    \n",
    "    def __init__(self, col_name, value):\n",
    "        self.col_name = col_name\n",
    "        self.value = value\n",
    "\n",
    "    def partition(self, data):\n",
    "        \"\"\"Partitions the dataset using this question\n",
    "        Returns the true partion and the false partion, as one tuple with two dataframes\n",
    "        \"\"\"\n",
    "        return data[data[self.col_name] >= self.value], data[data[self.col_name] < self.value]\n",
    "\n",
    "    def answer(self, sample):\n",
    "        return sample[self.col_name] >= self.value\n",
    "    \n",
    "    def __repr__(self):\n",
    "        \"\"\"toString() function for Python\n",
    "        \"\"\"\n",
    "        return str(self.col_name) + ' >= ' + str(self.value)"
   ]
  },
  {
   "cell_type": "markdown",
   "metadata": {},
   "source": [
    "We will already give you a function to get all possible questions of a given dataset. This method will return a list with all possible (remaining) questions for a given dataset:"
   ]
  },
  {
   "cell_type": "code",
   "execution_count": 4,
   "metadata": {},
   "outputs": [],
   "source": [
    "def all_possible_questions(data):\n",
    "    \"\"\" Returns a list of all possible questions\n",
    "    Each question consists of the column index and the value\n",
    "    The question is then: dataset[column] >= value\n",
    "    The last column will be skipped since it contains the labels!!!\n",
    "    \"\"\"\n",
    "    result = list()\n",
    "    \n",
    "    # Loop over all columns except for the last column (since it contains the labels)\n",
    "    for col_name in data.iloc[:,:-1].columns:\n",
    "        # Take column from data set\n",
    "        column = data[col_name]\n",
    "\n",
    "        # For each unique value in the data set, create a possible question object\n",
    "        # Each question stores the column index and the value (question: data[col] >= value)\n",
    "        for val in column.unique():\n",
    "            result.append(Question(col_name, val))\n",
    "        \n",
    "    return result"
   ]
  },
  {
   "cell_type": "code",
   "execution_count": 5,
   "metadata": {},
   "outputs": [
    {
     "name": "stdout",
     "output_type": "stream",
     "text": [
      "[isRed >= 1, isRed >= 0, isBlack >= 0, isBlack >= 1, isYellow >= 0, isYellow >= 1, seats >= 5, seats >= 2, seats >= 25, seats >= 30]\n",
      "Question:  seats >= 5\n",
      "Partition True:\n"
     ]
    },
    {
     "data": {
      "text/html": [
       "<div>\n",
       "<style scoped>\n",
       "    .dataframe tbody tr th:only-of-type {\n",
       "        vertical-align: middle;\n",
       "    }\n",
       "\n",
       "    .dataframe tbody tr th {\n",
       "        vertical-align: top;\n",
       "    }\n",
       "\n",
       "    .dataframe thead th {\n",
       "        text-align: right;\n",
       "    }\n",
       "</style>\n",
       "<table border=\"1\" class=\"dataframe\">\n",
       "  <thead>\n",
       "    <tr style=\"text-align: right;\">\n",
       "      <th></th>\n",
       "      <th>isRed</th>\n",
       "      <th>isBlack</th>\n",
       "      <th>isYellow</th>\n",
       "      <th>seats</th>\n",
       "      <th>label</th>\n",
       "    </tr>\n",
       "  </thead>\n",
       "  <tbody>\n",
       "    <tr>\n",
       "      <td>0</td>\n",
       "      <td>1</td>\n",
       "      <td>0</td>\n",
       "      <td>0</td>\n",
       "      <td>5</td>\n",
       "      <td>car</td>\n",
       "    </tr>\n",
       "    <tr>\n",
       "      <td>3</td>\n",
       "      <td>0</td>\n",
       "      <td>0</td>\n",
       "      <td>1</td>\n",
       "      <td>25</td>\n",
       "      <td>train</td>\n",
       "    </tr>\n",
       "    <tr>\n",
       "      <td>4</td>\n",
       "      <td>0</td>\n",
       "      <td>0</td>\n",
       "      <td>1</td>\n",
       "      <td>30</td>\n",
       "      <td>train</td>\n",
       "    </tr>\n",
       "  </tbody>\n",
       "</table>\n",
       "</div>"
      ],
      "text/plain": [
       "   isRed  isBlack  isYellow  seats  label\n",
       "0      1        0         0      5    car\n",
       "3      0        0         1     25  train\n",
       "4      0        0         1     30  train"
      ]
     },
     "metadata": {},
     "output_type": "display_data"
    },
    {
     "name": "stdout",
     "output_type": "stream",
     "text": [
      "Partition False:\n"
     ]
    },
    {
     "data": {
      "text/html": [
       "<div>\n",
       "<style scoped>\n",
       "    .dataframe tbody tr th:only-of-type {\n",
       "        vertical-align: middle;\n",
       "    }\n",
       "\n",
       "    .dataframe tbody tr th {\n",
       "        vertical-align: top;\n",
       "    }\n",
       "\n",
       "    .dataframe thead th {\n",
       "        text-align: right;\n",
       "    }\n",
       "</style>\n",
       "<table border=\"1\" class=\"dataframe\">\n",
       "  <thead>\n",
       "    <tr style=\"text-align: right;\">\n",
       "      <th></th>\n",
       "      <th>isRed</th>\n",
       "      <th>isBlack</th>\n",
       "      <th>isYellow</th>\n",
       "      <th>seats</th>\n",
       "      <th>label</th>\n",
       "    </tr>\n",
       "  </thead>\n",
       "  <tbody>\n",
       "    <tr>\n",
       "      <td>1</td>\n",
       "      <td>0</td>\n",
       "      <td>1</td>\n",
       "      <td>0</td>\n",
       "      <td>2</td>\n",
       "      <td>car</td>\n",
       "    </tr>\n",
       "    <tr>\n",
       "      <td>2</td>\n",
       "      <td>0</td>\n",
       "      <td>1</td>\n",
       "      <td>0</td>\n",
       "      <td>2</td>\n",
       "      <td>motorbike</td>\n",
       "    </tr>\n",
       "  </tbody>\n",
       "</table>\n",
       "</div>"
      ],
      "text/plain": [
       "   isRed  isBlack  isYellow  seats      label\n",
       "1      0        1         0      2        car\n",
       "2      0        1         0      2  motorbike"
      ]
     },
     "metadata": {},
     "output_type": "display_data"
    }
   ],
   "source": [
    "### Examples\n",
    "\n",
    "# Example 1: get all questions:\n",
    "questions = all_possible_questions(data_with_labels)\n",
    "print(questions)\n",
    "\n",
    "# Example 2: partition the dataset using one question (question 6: seats >= 5)\n",
    "print(\"Question: \", questions[6])\n",
    "left, right = questions[6].partition(data_with_labels)\n",
    "\n",
    "print(\"Partition True:\")\n",
    "display(left)\n",
    "\n",
    "print(\"Partition False:\")\n",
    "display(right)"
   ]
  },
  {
   "cell_type": "markdown",
   "metadata": {},
   "source": [
    "### 1.1 Implement gini_impurity and information_gain\n",
    "The slides contain information about both metrics. Please implement them in Python (this is a good exercise to practice some math, understand metrics and work comfortably with Pandas)."
   ]
  },
  {
   "cell_type": "code",
   "execution_count": 6,
   "metadata": {},
   "outputs": [],
   "source": [
    "def gini_impurity(data):\n",
    "    \"\"\" Calculate the Gini Impurity for a dataframe (make sure the last column contains the labels!!!)\n",
    "    Please see the slides for the formula\n",
    "    \"\"\"\n",
    "    # TODO: implement method\n",
    "    return 0\n",
    "\n",
    "def information_gain(left_data, right_data, current_gini):\n",
    "    \"\"\" Calculate the information gain for the current split\n",
    "    left_data and right_data is both a set of rows.\n",
    "    current_gini is the gini impurity of the current node\n",
    "    \"\"\"\n",
    "    # TODO: implement method\n",
    "    return 0"
   ]
  },
  {
   "cell_type": "code",
   "execution_count": 7,
   "metadata": {},
   "outputs": [
    {
     "ename": "AssertionError",
     "evalue": "\nArrays are not almost equal to 7 decimals\n ACTUAL: 0\n DESIRED: 0.64",
     "output_type": "error",
     "traceback": [
      "\u001b[0;31m---------------------------------------------------------------------------\u001b[0m",
      "\u001b[0;31mAssertionError\u001b[0m                            Traceback (most recent call last)",
      "\u001b[0;32m<ipython-input-7-714bb7810c47>\u001b[0m in \u001b[0;36m<module>\u001b[0;34m\u001b[0m\n\u001b[1;32m      5\u001b[0m \u001b[0;31m# Test 1: gini impurity (should give value 0.64)\u001b[0m\u001b[0;34m\u001b[0m\u001b[0;34m\u001b[0m\u001b[0;34m\u001b[0m\u001b[0m\n\u001b[1;32m      6\u001b[0m \u001b[0mcurrent_gini\u001b[0m \u001b[0;34m=\u001b[0m \u001b[0mgini_impurity\u001b[0m\u001b[0;34m(\u001b[0m\u001b[0mdata_with_labels\u001b[0m\u001b[0;34m)\u001b[0m\u001b[0;34m\u001b[0m\u001b[0;34m\u001b[0m\u001b[0m\n\u001b[0;32m----> 7\u001b[0;31m \u001b[0mnpt\u001b[0m\u001b[0;34m.\u001b[0m\u001b[0massert_almost_equal\u001b[0m\u001b[0;34m(\u001b[0m\u001b[0mcurrent_gini\u001b[0m\u001b[0;34m,\u001b[0m \u001b[0;36m0.64\u001b[0m\u001b[0;34m)\u001b[0m\u001b[0;34m\u001b[0m\u001b[0;34m\u001b[0m\u001b[0m\n\u001b[0m\u001b[1;32m      8\u001b[0m \u001b[0;34m\u001b[0m\u001b[0m\n\u001b[1;32m      9\u001b[0m \u001b[0;31m# Tests part 2: gini impurity and information gain (using questions[6]: seats >= 5)\u001b[0m\u001b[0;34m\u001b[0m\u001b[0;34m\u001b[0m\u001b[0;34m\u001b[0m\u001b[0m\n",
      "\u001b[0;32m~/.pyenv/versions/anaconda3-5.1.0/lib/python3.6/site-packages/numpy/testing/_private/utils.py\u001b[0m in \u001b[0;36massert_almost_equal\u001b[0;34m(actual, desired, decimal, err_msg, verbose)\u001b[0m\n\u001b[1;32m    586\u001b[0m         \u001b[0;32mpass\u001b[0m\u001b[0;34m\u001b[0m\u001b[0;34m\u001b[0m\u001b[0m\n\u001b[1;32m    587\u001b[0m     \u001b[0;32mif\u001b[0m \u001b[0mabs\u001b[0m\u001b[0;34m(\u001b[0m\u001b[0mdesired\u001b[0m \u001b[0;34m-\u001b[0m \u001b[0mactual\u001b[0m\u001b[0;34m)\u001b[0m \u001b[0;34m>=\u001b[0m \u001b[0;36m1.5\u001b[0m \u001b[0;34m*\u001b[0m \u001b[0;36m10.0\u001b[0m\u001b[0;34m**\u001b[0m\u001b[0;34m(\u001b[0m\u001b[0;34m-\u001b[0m\u001b[0mdecimal\u001b[0m\u001b[0;34m)\u001b[0m\u001b[0;34m:\u001b[0m\u001b[0;34m\u001b[0m\u001b[0;34m\u001b[0m\u001b[0m\n\u001b[0;32m--> 588\u001b[0;31m         \u001b[0;32mraise\u001b[0m \u001b[0mAssertionError\u001b[0m\u001b[0;34m(\u001b[0m\u001b[0m_build_err_msg\u001b[0m\u001b[0;34m(\u001b[0m\u001b[0;34m)\u001b[0m\u001b[0;34m)\u001b[0m\u001b[0;34m\u001b[0m\u001b[0;34m\u001b[0m\u001b[0m\n\u001b[0m\u001b[1;32m    589\u001b[0m \u001b[0;34m\u001b[0m\u001b[0m\n\u001b[1;32m    590\u001b[0m \u001b[0;34m\u001b[0m\u001b[0m\n",
      "\u001b[0;31mAssertionError\u001b[0m: \nArrays are not almost equal to 7 decimals\n ACTUAL: 0\n DESIRED: 0.64"
     ]
    }
   ],
   "source": [
    "###################\n",
    "### Test methods: #\n",
    "###################\n",
    "\n",
    "# Test 1: gini impurity (should give value 0.64)\n",
    "current_gini = gini_impurity(data_with_labels)\n",
    "npt.assert_almost_equal(current_gini, 0.64)\n",
    "\n",
    "# Tests part 2: gini impurity and information gain (using questions[6]: seats >= 5)\n",
    "questions = all_possible_questions(data_with_labels)\n",
    "left, right = questions[6].partition(data_with_labels)\n",
    "\n",
    "# Test 2: gini impurity for partial sets should be: 0.444... and 0.5\n",
    "npt.assert_almost_equal(gini_impurity(left), 0.444, decimal=3)\n",
    "npt.assert_almost_equal(gini_impurity(right), 0.5)\n",
    "\n",
    "# Test 3: information_gain should be: 0.17333...\n",
    "ig = information_gain(left, right, current_gini)\n",
    "npt.assert_almost_equal(ig, 0.1733, decimal=4)"
   ]
  },
  {
   "cell_type": "markdown",
   "metadata": {},
   "source": [
    "### 1.2 Determining the next best quesion for an arbitrary dataset\n",
    "Now we will implement the method that is able to find the best next question. This method should work as follows:\n",
    "- Calculate the gini impurity of the whole dataset\n",
    "- Loop over all the questions and partion the dataset using the questions partition method\n",
    "- If the question does not split the dataset in two, skip this question\n",
    "- Else calculate the information gain\n",
    "- Keep track of the question with the best information gain and return this question and the information gain"
   ]
  },
  {
   "cell_type": "code",
   "execution_count": 8,
   "metadata": {},
   "outputs": [],
   "source": [
    "def find_best_next_question(questions, data):\n",
    "    \"\"\"Find the next best question using the information gain (see slides)\n",
    "    This method should return the question and the information gain\n",
    "    \"\"\"\n",
    "    \n",
    "    # TODO: implement method\n",
    "    return None, 0"
   ]
  },
  {
   "cell_type": "code",
   "execution_count": 9,
   "metadata": {},
   "outputs": [
    {
     "ename": "AssertionError",
     "evalue": "\nItems are not equal:\n ACTUAL: 'None'\n DESIRED: 'isYellow >= 1'",
     "output_type": "error",
     "traceback": [
      "\u001b[0;31m---------------------------------------------------------------------------\u001b[0m",
      "\u001b[0;31mAssertionError\u001b[0m                            Traceback (most recent call last)",
      "\u001b[0;32m<ipython-input-9-11adf04885cf>\u001b[0m in \u001b[0;36m<module>\u001b[0;34m\u001b[0m\n\u001b[1;32m      7\u001b[0m \u001b[0mq\u001b[0m\u001b[0;34m,\u001b[0m \u001b[0mig\u001b[0m \u001b[0;34m=\u001b[0m \u001b[0mfind_best_next_question\u001b[0m\u001b[0;34m(\u001b[0m\u001b[0mquestions\u001b[0m\u001b[0;34m,\u001b[0m \u001b[0mdata_with_labels\u001b[0m\u001b[0;34m)\u001b[0m\u001b[0;34m\u001b[0m\u001b[0;34m\u001b[0m\u001b[0m\n\u001b[1;32m      8\u001b[0m \u001b[0;34m\u001b[0m\u001b[0m\n\u001b[0;32m----> 9\u001b[0;31m \u001b[0mnpt\u001b[0m\u001b[0;34m.\u001b[0m\u001b[0massert_equal\u001b[0m\u001b[0;34m(\u001b[0m\u001b[0mstr\u001b[0m\u001b[0;34m(\u001b[0m\u001b[0mq\u001b[0m\u001b[0;34m)\u001b[0m\u001b[0;34m,\u001b[0m \u001b[0;34m'isYellow >= 1'\u001b[0m\u001b[0;34m)\u001b[0m\u001b[0;34m\u001b[0m\u001b[0;34m\u001b[0m\u001b[0m\n\u001b[0m\u001b[1;32m     10\u001b[0m \u001b[0mnpt\u001b[0m\u001b[0;34m.\u001b[0m\u001b[0massert_almost_equal\u001b[0m\u001b[0;34m(\u001b[0m\u001b[0mig\u001b[0m\u001b[0;34m,\u001b[0m \u001b[0;36m0.3733\u001b[0m\u001b[0;34m,\u001b[0m \u001b[0mdecimal\u001b[0m\u001b[0;34m=\u001b[0m\u001b[0;36m4\u001b[0m\u001b[0;34m)\u001b[0m\u001b[0;34m\u001b[0m\u001b[0;34m\u001b[0m\u001b[0m\n",
      "\u001b[0;32m~/.pyenv/versions/anaconda3-5.1.0/lib/python3.6/site-packages/numpy/testing/_private/utils.py\u001b[0m in \u001b[0;36massert_equal\u001b[0;34m(actual, desired, err_msg, verbose)\u001b[0m\n\u001b[1;32m    413\u001b[0m         \u001b[0;31m# Explicitly use __eq__ for comparison, gh-2552\u001b[0m\u001b[0;34m\u001b[0m\u001b[0;34m\u001b[0m\u001b[0;34m\u001b[0m\u001b[0m\n\u001b[1;32m    414\u001b[0m         \u001b[0;32mif\u001b[0m \u001b[0;32mnot\u001b[0m \u001b[0;34m(\u001b[0m\u001b[0mdesired\u001b[0m \u001b[0;34m==\u001b[0m \u001b[0mactual\u001b[0m\u001b[0;34m)\u001b[0m\u001b[0;34m:\u001b[0m\u001b[0;34m\u001b[0m\u001b[0;34m\u001b[0m\u001b[0m\n\u001b[0;32m--> 415\u001b[0;31m             \u001b[0;32mraise\u001b[0m \u001b[0mAssertionError\u001b[0m\u001b[0;34m(\u001b[0m\u001b[0mmsg\u001b[0m\u001b[0;34m)\u001b[0m\u001b[0;34m\u001b[0m\u001b[0;34m\u001b[0m\u001b[0m\n\u001b[0m\u001b[1;32m    416\u001b[0m \u001b[0;34m\u001b[0m\u001b[0m\n\u001b[1;32m    417\u001b[0m     \u001b[0;32mexcept\u001b[0m \u001b[0;34m(\u001b[0m\u001b[0mDeprecationWarning\u001b[0m\u001b[0;34m,\u001b[0m \u001b[0mFutureWarning\u001b[0m\u001b[0;34m)\u001b[0m \u001b[0;32mas\u001b[0m \u001b[0me\u001b[0m\u001b[0;34m:\u001b[0m\u001b[0;34m\u001b[0m\u001b[0;34m\u001b[0m\u001b[0m\n",
      "\u001b[0;31mAssertionError\u001b[0m: \nItems are not equal:\n ACTUAL: 'None'\n DESIRED: 'isYellow >= 1'"
     ]
    }
   ],
   "source": [
    "###################\n",
    "### Test methods: #\n",
    "###################\n",
    "questions = all_possible_questions(data_with_labels)\n",
    "\n",
    "# Should give \"isYellow\" with information gain of 0.37333...\n",
    "q, ig = find_best_next_question(questions, data_with_labels)\n",
    "\n",
    "npt.assert_equal(str(q), 'isYellow >= 1')\n",
    "npt.assert_almost_equal(ig, 0.3733, decimal=4)"
   ]
  },
  {
   "cell_type": "markdown",
   "metadata": {},
   "source": [
    "### 1.3 Constructing the tree\n",
    "The tree construction algorithm uses your implemented methods and two additional classes:"
   ]
  },
  {
   "cell_type": "code",
   "execution_count": 10,
   "metadata": {},
   "outputs": [],
   "source": [
    "class Tree:\n",
    "    \"\"\"Normal branched node with a question and two branches\n",
    "    \"\"\"\n",
    "\n",
    "    def __init__(self, question, true_node, false_node):\n",
    "        self.question = question\n",
    "        self.true_node = true_node\n",
    "        self.false_node = false_node\n",
    "    \n",
    "    def __repr__(self):\n",
    "        \"\"\"ToString method for the tree (will generate dot-format string)\n",
    "        \"\"\"\n",
    "        return 'digraph g {\\n' + self.print_tree_dot() + '}'\n",
    "        \n",
    "    def print_tree_dot(self, prefix=''):\n",
    "        \"\"\"Helper method to print this tree object as a dot-string\n",
    "        \"\"\"\n",
    "        result = '\\tn{} [label=\"{}\" shape=box];\\n'.format(prefix, str(self.question))\n",
    "        \n",
    "        # Recursively add nodes\n",
    "        result += self.true_node.print_tree_dot(prefix + 't')\n",
    "        result += self.false_node.print_tree_dot(prefix + 'f')\n",
    "        \n",
    "        # Add connections\n",
    "        result += '\\tn{} -> n{} [label=\"true\"];\\n'.format(prefix, prefix + 't')\n",
    "        result += '\\tn{} -> n{} [label=\"false\"];\\n'.format(prefix, prefix + 'f')\n",
    "        \n",
    "        return result\n",
    "        \n",
    "class Leaf:\n",
    "    \"\"\" Terminal node for a tree (each leaf contains data)\n",
    "    \"\"\"\n",
    "\n",
    "    def __init__(self, data):\n",
    "        self.data = data\n",
    "    \n",
    "    def probabilities(self):\n",
    "        \"\"\"Give a list of probabilities per label and the total label count\n",
    "        \"\"\"\n",
    "        val_counts = self.data.iloc[:,-1].value_counts()\n",
    "        prob = val_counts / val_counts.sum()\n",
    "        return prob, val_counts.sum()\n",
    "    \n",
    "    def __repr__(self):\n",
    "        \"\"\"ToString method for the tree (will generate dot-format string)\n",
    "        \"\"\"\n",
    "        return 'digraph g {\\n' + self.print_tree_dot() + '}'\n",
    "    \n",
    "    def print_tree_dot(self, prefix=''):\n",
    "        \"\"\"Helper method to print this tree object as a dot-string\n",
    "        \"\"\"\n",
    "        prob, counts = self.probabilities()\n",
    "        return '\\tn{} [label=\"{}\"];\\n'.format(prefix, 'Counts: ' + str(counts) + '\\\\n' + str(prob.to_dict()))"
   ]
  },
  {
   "cell_type": "markdown",
   "metadata": {},
   "source": [
    "The classes represent the two types of nodes: a normal node with two branches and the leafs. The code might look complex because of the print function. In essence only the constructor is interesting for this exercise since it states what data is stored in the tree.\n",
    "\n",
    "Please try to construct the tree using the following methods and print the result (the graph will be exported in graphviz format) in a graphviz online visualizer."
   ]
  },
  {
   "cell_type": "code",
   "execution_count": 11,
   "metadata": {},
   "outputs": [],
   "source": [
    "def construct_tree(data):\n",
    "    \"\"\" This method will construct the decision tree\n",
    "    Result will be a Tree object. A Tree object has a default print operation in the .dot format.\n",
    "    This format can be visualized using Graphviz or one of the online graphviz websites\n",
    "    \"\"\"\n",
    "    \n",
    "    # Get all possible questions\n",
    "    questions = all_possible_questions(data)\n",
    "    \n",
    "    # Get information gain and best question\n",
    "    question, info_gain = find_best_next_question(questions, data)\n",
    "    \n",
    "    # When information gain = 0, no splits needed anymore\n",
    "    if info_gain == 0:\n",
    "        return Leaf(data)\n",
    "\n",
    "    # Split and recursively repeat\n",
    "    true_data, false_data = question.partition(data)\n",
    "    \n",
    "    true_branch = construct_tree(true_data)\n",
    "    false_branch = construct_tree(false_data)\n",
    "\n",
    "    # Return tree\n",
    "    return Tree(question, true_branch, false_branch)"
   ]
  },
  {
   "cell_type": "code",
   "execution_count": 12,
   "metadata": {
    "scrolled": true
   },
   "outputs": [
    {
     "name": "stdout",
     "output_type": "stream",
     "text": [
      "digraph g {\n",
      "\tn [label=\"Counts: 5\\n{'car': 0.4, 'train': 0.4, 'motorbike': 0.2}\"];\n",
      "}\n"
     ]
    }
   ],
   "source": [
    "# Construct tree and print the graphviz result\n",
    "tree = construct_tree(data_with_labels)\n",
    "print(tree)"
   ]
  },
  {
   "cell_type": "markdown",
   "metadata": {},
   "source": [
    "### 1.4 Classification\n",
    "Build a classify method that processes one sample and predicts the correct label by following the questions in the tree."
   ]
  },
  {
   "cell_type": "code",
   "execution_count": 13,
   "metadata": {},
   "outputs": [],
   "source": [
    "def classify(tree, sample):\n",
    "    \"\"\"\n",
    "    This method should return the outcome labels and their probabilities for a given sample\n",
    "    \"\"\"\n",
    "    if isinstance(tree, Leaf):\n",
    "        # TODO: Your leaf code here...\n",
    "        return 'some-label'\n",
    "    else:\n",
    "        # TODO: Your tree branch code here...\n",
    "        return 'some-recursion'"
   ]
  },
  {
   "cell_type": "code",
   "execution_count": 14,
   "metadata": {},
   "outputs": [
    {
     "data": {
      "text/plain": [
       "'some-label'"
      ]
     },
     "execution_count": 14,
     "metadata": {},
     "output_type": "execute_result"
    }
   ],
   "source": [
    "# Take the first row out of the dataframe and remove the label (should classify as car)\n",
    "sample = data_with_labels.iloc[0,:-1]\n",
    "\n",
    "classify(tree, sample)"
   ]
  }
 ],
 "metadata": {
  "kernelspec": {
   "display_name": "Python 3",
   "language": "python",
   "name": "python3"
  },
  "language_info": {
   "codemirror_mode": {
    "name": "ipython",
    "version": 3
   },
   "file_extension": ".py",
   "mimetype": "text/x-python",
   "name": "python",
   "nbconvert_exporter": "python",
   "pygments_lexer": "ipython3",
   "version": "3.8.8"
  },
  "varInspector": {
   "cols": {
    "lenName": 16,
    "lenType": 16,
    "lenVar": 40
   },
   "kernels_config": {
    "python": {
     "delete_cmd_postfix": "",
     "delete_cmd_prefix": "del ",
     "library": "var_list.py",
     "varRefreshCmd": "print(var_dic_list())"
    },
    "r": {
     "delete_cmd_postfix": ") ",
     "delete_cmd_prefix": "rm(",
     "library": "var_list.r",
     "varRefreshCmd": "cat(var_dic_list()) "
    }
   },
   "types_to_exclude": [
    "module",
    "function",
    "builtin_function_or_method",
    "instance",
    "_Feature"
   ],
   "window_display": false
  }
 },
 "nbformat": 4,
 "nbformat_minor": 2
}
